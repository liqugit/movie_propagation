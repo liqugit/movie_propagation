{
 "cells": [
  {
   "cell_type": "code",
   "execution_count": 1,
   "metadata": {},
   "outputs": [],
   "source": [
    "import json\n",
    "import os\n",
    "import sys\n",
    "import argparse\n",
    "from collections import Counter, defaultdict\n",
    "import numpy as np\n",
    "import pandas as pd\n",
    "import matplotlib.pyplot as plt\n",
    "from scipy.optimize import curve_fit\n",
    "from scipy.special import factorial\n",
    "from scipy import stats\n",
    "from matplotlib import cm\n",
    "from matplotlib.colors import LinearSegmentedColormap\n",
    "\n",
    "src_dir = os.path.abspath(os.path.join(os.pardir, os.pardir,'src'))\n",
    "sys.path[0] = src_dir\n",
    "from parser.support import ROLES, CREDITS\n",
    "from parser.my_mongo_db_login import DB_LOGIN_INFO\n",
    "import parser.support as support"
   ]
  },
  {
   "cell_type": "code",
   "execution_count": 2,
   "metadata": {},
   "outputs": [],
   "source": [
    "%load_ext autoreload\n",
    "%autoreload 2\n",
    "\n",
    "%matplotlib inline"
   ]
  },
  {
   "cell_type": "code",
   "execution_count": 3,
   "metadata": {},
   "outputs": [],
   "source": [
    "with open('/home/projects/movie-network/data/raw_data/movies.json') as f:\n",
    "    movie_file = f.read()\n",
    "    movie_data = json.loads(movie_file)"
   ]
  },
  {
   "cell_type": "code",
   "execution_count": 4,
   "metadata": {},
   "outputs": [
    {
     "name": "stdout",
     "output_type": "stream",
     "text": [
      "Loaded IMDb movies producing_gender_percentage\n",
      "Got all_movies\n"
     ]
    }
   ],
   "source": [
    "role = 'producing'\n",
    "role_key = role + \"_gender_percentage\"\n",
    "all_movies = support.get_movies_df(role_key)\n",
    "print('Got all_movies')\n"
   ]
  },
  {
   "cell_type": "code",
   "execution_count": 5,
   "metadata": {},
   "outputs": [],
   "source": [
    "all_movies.columns\n",
    "#get 90s movies with only producer, id, title, year...\n",
    "movie_90s = all_movies[(all_movies.year >= 1990) & (all_movies.year < 2000)]\n",
    "movie_producer_df = movie_90s[['_id', 'producers', 'producing_gender_percentage', 'title', 'year']]"
   ]
  },
  {
   "cell_type": "code",
   "execution_count": 6,
   "metadata": {},
   "outputs": [
    {
     "data": {
      "text/plain": [
       "2009"
      ]
     },
     "execution_count": 6,
     "metadata": {},
     "output_type": "execute_result"
    }
   ],
   "source": [
    "len(movie_90s)"
   ]
  },
  {
   "cell_type": "code",
   "execution_count": 9,
   "metadata": {},
   "outputs": [],
   "source": [
    "movie_producer_df = movie_producer_df.sort_values('year')"
   ]
  },
  {
   "cell_type": "code",
   "execution_count": 11,
   "metadata": {},
   "outputs": [],
   "source": [
    "movie_producer_df['producer_num'] = movie_producer_df['producers'].apply(lambda x: len(x))"
   ]
  },
  {
   "cell_type": "code",
   "execution_count": 41,
   "metadata": {},
   "outputs": [],
   "source": [
    "def unlistify(df, column):\n",
    "    matches = [i for i,n in enumerate(df.columns)\n",
    "             if n==column]\n",
    "\n",
    "    if len(matches)==0:\n",
    "        raise Exception('Failed to find column named ' + column +'!')\n",
    "    if len(matches)>1:\n",
    "        raise Exception('More than one column named ' + column +'!')\n",
    "\n",
    "    col_idx = matches[0]\n",
    "\n",
    "    # Helper function to expand and repeat the column col_idx\n",
    "    def fnc(d):\n",
    "        row = list(d.values[0])\n",
    "        bef = row[:col_idx]\n",
    "        aft = row[col_idx+1:]\n",
    "        col = row[col_idx]\n",
    "        z = [bef + [c] + aft for c in col]\n",
    "        return pd.DataFrame(z)\n",
    "\n",
    "    col_idx += len(df.index.shape) # Since we will push reset the index\n",
    "    index_names = list(df.index.names)\n",
    "    column_names = list(index_names) + list(df.columns)\n",
    "    return (df\n",
    "          .reset_index()\n",
    "          .groupby(level=0,as_index=0)\n",
    "          .apply(fnc)\n",
    "          .rename(columns = lambda i :column_names[i])\n",
    "          .set_index(index_names)\n",
    "          )"
   ]
  },
  {
   "cell_type": "markdown",
   "metadata": {},
   "source": [
    "## plot colors"
   ]
  },
  {
   "cell_type": "code",
   "execution_count": 29,
   "metadata": {},
   "outputs": [],
   "source": [
    "def discrete_cmap(N, base_cmap=None):\n",
    "    \"\"\"Create an N-bin discrete colormap from the specified input map\"\"\"\n",
    "\n",
    "    # Note that if base_cmap is a string or None, you can simply do\n",
    "    #    return plt.cm.get_cmap(base_cmap, N)\n",
    "    # The following works for string, None, or a colormap instance:\n",
    "\n",
    "    base = cm.get_cmap(base_cmap)\n",
    "    color_list = base(np.linspace(0, 1, N))\n",
    "    cmap_name = base.name + str(N)\n",
    "    return LinearSegmentedColormap.from_list(cmap_name, color_list, N)\n",
    "\n",
    "viridis_cmap = discrete_cmap(20, 'viridis')\n"
   ]
  },
  {
   "cell_type": "code",
   "execution_count": 35,
   "metadata": {},
   "outputs": [],
   "source": [
    "viridis_cmap = cm.viridis.colors"
   ]
  },
  {
   "cell_type": "code",
   "execution_count": 37,
   "metadata": {},
   "outputs": [
    {
     "data": {
      "text/plain": [
       "256"
      ]
     },
     "execution_count": 37,
     "metadata": {},
     "output_type": "execute_result"
    }
   ],
   "source": [
    "len(viridis_cmap)"
   ]
  },
  {
   "cell_type": "markdown",
   "metadata": {},
   "source": [
    "## Number of producers per movie "
   ]
  },
  {
   "cell_type": "code",
   "execution_count": 13,
   "metadata": {},
   "outputs": [],
   "source": [
    "producer_num_list = movie_producer_df.producer_num.tolist()"
   ]
  },
  {
   "cell_type": "code",
   "execution_count": 40,
   "metadata": {},
   "outputs": [
    {
     "data": {
      "image/png": "[encoded data removed]",
      "text/plain": [
       "<Figure size 360x216 with 1 Axes>"
      ]
     },
     "metadata": {},
     "output_type": "display_data"
    }
   ],
   "source": [
    "fig, ax = plt.subplots(figsize=(5,3))\n",
    "ax.hist(producer_num_list, bins=np.arange(0, max(producer_num_list)+1, 1), color=viridis_cmap[100], density=True)\n",
    "\n",
    "fontsize=10\n",
    "#figure style\n",
    "ax.set_ylabel('Probability density', fontsize=1.5*fontsize)\n",
    "ax.set_xlabel('Number of producers', fontsize=1.5*fontsize)\n",
    "ax.tick_params(axis='both', which='major', labelsize=fontsize)\n",
    "ax.tick_params(axis='both', which='minor', labelsize=fontsize)\n",
    "ax.spines['right'].set_visible(False)\n",
    "ax.spines['top'].set_visible(False)\n",
    "#saving\n",
    "plt.tight_layout()\n",
    "plt.savefig('/home/projects/movie-network/result/basic_properties/90s_producers_per_movie.pdf', dpi=300, transparent=True)"
   ]
  },
  {
   "cell_type": "markdown",
   "metadata": {},
   "source": [
    "## count occurences"
   ]
  },
  {
   "cell_type": "markdown",
   "metadata": {},
   "source": [
    "### expand the producer column"
   ]
  },
  {
   "cell_type": "code",
   "execution_count": 42,
   "metadata": {},
   "outputs": [],
   "source": [
    "unlistyfied_producer_df = unlistify(movie_producer_df, 'producers')"
   ]
  },
  {
   "cell_type": "code",
   "execution_count": 43,
   "metadata": {},
   "outputs": [],
   "source": [
    "unlistyfied_producer_df['producers'] = unlistyfied_producer_df['producers'].apply(lambda x: x[0])"
   ]
  },
  {
   "cell_type": "markdown",
   "metadata": {},
   "source": [
    "### occurences"
   ]
  },
  {
   "cell_type": "code",
   "execution_count": 45,
   "metadata": {
    "scrolled": true
   },
   "outputs": [],
   "source": [
    "occurence_list = unlistyfied_producer_df['producers'].value_counts().values"
   ]
  },
  {
   "cell_type": "code",
   "execution_count": 46,
   "metadata": {
    "scrolled": true
   },
   "outputs": [],
   "source": [
    "us = unlistyfied_producer_df['producers'].value_counts()\n"
   ]
  },
  {
   "cell_type": "code",
   "execution_count": 50,
   "metadata": {},
   "outputs": [
    {
     "data": {
      "image/png": "[encoded data removed]",
      "text/plain": [
       "<Figure size 360x216 with 1 Axes>"
      ]
     },
     "metadata": {},
     "output_type": "display_data"
    }
   ],
   "source": [
    "fig, ax = plt.subplots(figsize=(5,3))\n",
    "ax.hist(occurence_list, bins=np.arange(0, occurence_list.max(), 1), density=True, color=viridis_cmap[30])\n",
    "fontsize=10\n",
    "#figure style\n",
    "ax.set_ylabel('Probability density', fontsize=1.5*fontsize)\n",
    "ax.set_xlabel('Occurences', fontsize=1.5*fontsize)\n",
    "ax.tick_params(axis='both', which='major', labelsize=fontsize)\n",
    "ax.tick_params(axis='both', which='minor', labelsize=fontsize)\n",
    "ax.spines['right'].set_visible(False)\n",
    "ax.spines['top'].set_visible(False)\n",
    "#saving\n",
    "plt.tight_layout()\n",
    "plt.savefig('/home/projects/movie-network/result/90s_producer_movie_occurences.pdf', dpi=300, transparent=True)"
   ]
  },
  {
   "cell_type": "code",
   "execution_count": 51,
   "metadata": {},
   "outputs": [
    {
     "data": {
      "image/png": "[encoded data removed]",
      "text/plain": [
       "<Figure size 360x216 with 1 Axes>"
      ]
     },
     "metadata": {},
     "output_type": "display_data"
    }
   ],
   "source": [
    "fig, ax = plt.subplots(figsize=(5,3))\n",
    "ax.hist(occurence_list, bins=np.arange(0, occurence_list.max(), 1), density=True, color=viridis_cmap[30])\n",
    "ax.set_yscale('log')\n",
    "fontsize=10\n",
    "#figure style\n",
    "ax.set_ylabel('Probability density', fontsize=1.5*fontsize)\n",
    "ax.set_xlabel('Occurences', fontsize=1.5*fontsize)\n",
    "ax.tick_params(axis='both', which='major', labelsize=fontsize)\n",
    "ax.tick_params(axis='both', which='minor', labelsize=fontsize)\n",
    "ax.spines['right'].set_visible(False)\n",
    "ax.spines['top'].set_visible(False)\n",
    "#saving\n",
    "plt.tight_layout()\n",
    "plt.savefig('/home/projects/movie-network/result/90s_producer_movie_occurences_logy.pdf', dpi=300, transparent=True)"
   ]
  },
  {
   "cell_type": "markdown",
   "metadata": {},
   "source": [
    "## Gap "
   ]
  },
  {
   "cell_type": "code",
   "execution_count": 52,
   "metadata": {},
   "outputs": [],
   "source": [
    "gap_list = []\n",
    "count =0\n",
    "for p, group in unlistyfied_producer_df.groupby(['producers']):\n",
    "    group = group.sort_values('year')\n",
    "    diff = group.year.diff().values\n",
    "    gap_list.extend(diff[~np.isnan(diff)])"
   ]
  },
  {
   "cell_type": "code",
   "execution_count": 54,
   "metadata": {},
   "outputs": [
    {
     "data": {
      "image/png": "[encoded data removed]",
      "text/plain": [
       "<Figure size 360x216 with 1 Axes>"
      ]
     },
     "metadata": {},
     "output_type": "display_data"
    }
   ],
   "source": [
    "fig, ax = plt.subplots(figsize=(5,3))\n",
    "ax.hist(gap_list, bins=np.arange(0, max(gap_list)+1,1), density=True, color=viridis_cmap[180], linestyle='dashed')\n",
    "#figure style\n",
    "ax.set_ylabel('Probability density', fontsize=1.5*fontsize)\n",
    "ax.set_xlabel('Gap duration sizes [year]', fontsize=1.5*fontsize)\n",
    "ax.tick_params(axis='both', which='major', labelsize=fontsize)\n",
    "ax.tick_params(axis='both', which='minor', labelsize=fontsize)\n",
    "ax.spines['right'].set_visible(False)\n",
    "ax.spines['top'].set_visible(False)\n",
    "#saving\n",
    "plt.tight_layout()\n",
    "plt.savefig('/home/projects/movie-network/result/90s_producer_movie_gaps.pdf', dpi=300, transparent=True)"
   ]
  },
  {
   "cell_type": "markdown",
   "metadata": {},
   "source": [
    "## Count movies and producers that only appear one time"
   ]
  },
  {
   "cell_type": "markdown",
   "metadata": {},
   "source": [
    "## Team size dist"
   ]
  },
  {
   "cell_type": "code",
   "execution_count": 71,
   "metadata": {},
   "outputs": [],
   "source": [
    "producer_num = []\n",
    "for i, row in movie_producer_df.iterrows():\n",
    "    producer_num.append(len(row.producers))"
   ]
  },
  {
   "cell_type": "code",
   "execution_count": 81,
   "metadata": {},
   "outputs": [
    {
     "data": {
      "image/png": "[encoded data removed]",
      "text/plain": [
       "<Figure size 360x216 with 1 Axes>"
      ]
     },
     "metadata": {},
     "output_type": "display_data"
    }
   ],
   "source": [
    "fig, ax = plt.subplots(figsize=(5,3))\n",
    "ax.hist(producer_num, bins=np.arange(0, max(producer_num)+1,1), density=True, color=viridis_cmap[200], linestyle='dashed')\n",
    "#figure style\n",
    "ax.set_ylabel('Probability density', fontsize=1.5*fontsize)\n",
    "ax.set_xlabel('Number of producers', fontsize=1.5*fontsize)\n",
    "ax.tick_params(axis='both', which='major', labelsize=fontsize)\n",
    "ax.tick_params(axis='both', which='minor', labelsize=fontsize)\n",
    "ax.spines['right'].set_visible(False)\n",
    "ax.spines['top'].set_visible(False)\n",
    "#saving\n",
    "plt.tight_layout()\n",
    "# plt.savefig('../result/90s_producer_movie_gaps.pdf', dpi=300, transparent=True)\n",
    "ax.set_xlim([0,20])\n",
    "\n",
    "# the bins should be of integer width, because poisson is an integer distribution\n",
    "entries, bin_edges, patches = plt.hist(producer_num, bins=np.arange(0, 44, 1), density=True, color=viridis_cmap[100])\n",
    "\n",
    "# calculate binmiddles\n",
    "bin_middles = 0.5*(bin_edges[1:] + bin_edges[:-1])\n",
    "\n",
    "parameters, cov_matirx = curve_fit(poisson, bin_edges[:-1], entries)\n",
    "\n",
    "plt.plot(sorted(list(set(producer_num))), poisson(sorted(list(set(producer_num))), *parameters), ls ='--', color='orangered', lw=2)\n",
    "plt.savefig('/home/projects/movie-network/result/basic_properties/90s_producers_per_movie_poisson_fit.pdf', dpi=300, transparent=True)"
   ]
  },
  {
   "cell_type": "code",
   "execution_count": 82,
   "metadata": {},
   "outputs": [],
   "source": [
    "producer_test = np.random.poisson(parameters, size=len(producer_num))"
   ]
  },
  {
   "cell_type": "code",
   "execution_count": 83,
   "metadata": {},
   "outputs": [
    {
     "data": {
      "text/plain": [
       "Ks_2sampResult(statistic=0.013937282229965153, pvalue=0.9893439010184143)"
      ]
     },
     "execution_count": 83,
     "metadata": {},
     "output_type": "execute_result"
    }
   ],
   "source": [
    "stats.ks_2samp(producer_num, producer_test)"
   ]
  },
  {
   "cell_type": "markdown",
   "metadata": {},
   "source": [
    "# Building synthetic networks"
   ]
  },
  {
   "cell_type": "markdown",
   "metadata": {},
   "source": [
    "\n",
    "* fixed values\n",
    "    * number of movies per year\n",
    "    * number of producers per year\n",
    "\n",
    "* variables\n",
    "    * number of people per team - producer_num_list\n",
    "    * number of movies per producer - occurence_list\n",
    "    * size of gaps - gap_list\n"
   ]
  },
  {
   "cell_type": "code",
   "execution_count": 90,
   "metadata": {},
   "outputs": [],
   "source": [
    "number_of_movies_per_year = {}\n",
    "for year, df in movie_producer_df.groupby('year'):\n",
    "    number_of_movies_per_year[year] = len(df)"
   ]
  },
  {
   "cell_type": "code",
   "execution_count": 91,
   "metadata": {},
   "outputs": [
    {
     "data": {
      "text/plain": [
       "{1990: 183,\n",
       " 1991: 180,\n",
       " 1992: 202,\n",
       " 1993: 159,\n",
       " 1994: 191,\n",
       " 1995: 194,\n",
       " 1996: 228,\n",
       " 1997: 230,\n",
       " 1998: 209,\n",
       " 1999: 233}"
      ]
     },
     "execution_count": 91,
     "metadata": {},
     "output_type": "execute_result"
    }
   ],
   "source": [
    "number_of_movies_per_year"
   ]
  },
  {
   "cell_type": "code",
   "execution_count": 92,
   "metadata": {},
   "outputs": [],
   "source": [
    "number_of_producers_per_year = {}\n",
    "for year, df in unlistyfied_producer_df.groupby('year'):\n",
    "    number_of_producers_per_year[year] = len(df.producers.unique())"
   ]
  },
  {
   "cell_type": "code",
   "execution_count": 93,
   "metadata": {},
   "outputs": [
    {
     "data": {
      "text/plain": [
       "{1990: 712,\n",
       " 1991: 741,\n",
       " 1992: 843,\n",
       " 1993: 684,\n",
       " 1994: 841,\n",
       " 1995: 930,\n",
       " 1996: 1101,\n",
       " 1997: 1169,\n",
       " 1998: 1113,\n",
       " 1999: 1232}"
      ]
     },
     "execution_count": 93,
     "metadata": {},
     "output_type": "execute_result"
    }
   ],
   "source": [
    "number_of_producers_per_year"
   ]
  },
  {
   "cell_type": "code",
   "execution_count": 94,
   "metadata": {},
   "outputs": [
    {
     "name": "stdout",
     "output_type": "stream",
     "text": [
      "1990\n",
      "3.890710382513661\n",
      "1991\n",
      "4.116666666666666\n",
      "1992\n",
      "4.173267326732673\n",
      "1993\n",
      "4.30188679245283\n",
      "1994\n",
      "4.403141361256544\n",
      "1995\n",
      "4.793814432989691\n",
      "1996\n",
      "4.828947368421052\n",
      "1997\n",
      "5.082608695652174\n",
      "1998\n",
      "5.3253588516746415\n",
      "1999\n",
      "5.28755364806867\n"
     ]
    }
   ],
   "source": [
    "for year in number_of_movies_per_year:\n",
    "    print(year)\n",
    "    print(number_of_producers_per_year[year]/number_of_movies_per_year[year])"
   ]
  },
  {
   "cell_type": "code",
   "execution_count": null,
   "metadata": {},
   "outputs": [],
   "source": [
    "    "
   ]
  }
 ],
 "metadata": {
  "kernelspec": {
   "display_name": "Python 3",
   "language": "python",
   "name": "python3"
  },
  "language_info": {
   "codemirror_mode": {
    "name": "ipython",
    "version": 3
   },
   "file_extension": ".py",
   "mimetype": "text/x-python",
   "name": "python",
   "nbconvert_exporter": "python",
   "pygments_lexer": "ipython3",
   "version": "3.6.5"
  }
 },
 "nbformat": 4,
 "nbformat_minor": 2
}
