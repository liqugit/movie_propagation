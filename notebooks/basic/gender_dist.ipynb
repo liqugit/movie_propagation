{
 "cells": [
  {
   "cell_type": "code",
   "execution_count": 1,
   "metadata": {},
   "outputs": [],
   "source": [
    "import json\n",
    "import os\n",
    "import sys\n",
    "import argparse\n",
    "from collections import Counter, defaultdict\n",
    "import numpy as np\n",
    "import pandas as pd\n",
    "import matplotlib.pyplot as plt\n",
    "from scipy.optimize import curve_fit\n",
    "from scipy.special import factorial\n",
    "from scipy import stats\n",
    "\n",
    "src_dir = os.path.abspath(os.path.join(os.pardir, os.pardir, 'src'))\n",
    "sys.path[0] = src_dir\n",
    "from parser.support import ROLES, CREDITS\n",
    "from parser.my_mongo_db_login import DB_LOGIN_INFO\n",
    "import parser.support as support"
   ]
  },
  {
   "cell_type": "code",
   "execution_count": 2,
   "metadata": {},
   "outputs": [],
   "source": [
    "%load_ext autoreload\n",
    "%autoreload 2\n",
    "\n",
    "%matplotlib inline"
   ]
  },
  {
   "cell_type": "code",
   "execution_count": 4,
   "metadata": {},
   "outputs": [],
   "source": [
    "with open('/home/projects/movie-network/data/raw_data/movies.json') as f:\n",
    "    movie_file = f.read()\n",
    "    movie_data = json.loads(movie_file)"
   ]
  },
  {
   "cell_type": "code",
   "execution_count": 5,
   "metadata": {},
   "outputs": [
    {
     "name": "stdout",
     "output_type": "stream",
     "text": [
      "Loaded IMDb movies producing_gender_percentage\n",
      "Got all_movies\n"
     ]
    }
   ],
   "source": [
    "role = 'producing'\n",
    "role_key = role + \"_gender_percentage\"\n",
    "all_movies = support.get_movies_df(role_key)\n",
    "print('Got all_movies')\n"
   ]
  },
  {
   "cell_type": "code",
   "execution_count": 6,
   "metadata": {},
   "outputs": [],
   "source": [
    "all_movies.columns\n",
    "#get 90s movies with only producer, id, title, year...\n",
    "movie_90s = all_movies[(all_movies.year >= 1990) & (all_movies.year < 2000)]\n",
    "movie_producer_df = movie_90s[['_id', 'producers', 'producing_gender_percentage', 'title', 'year']]"
   ]
  },
  {
   "cell_type": "code",
   "execution_count": 7,
   "metadata": {},
   "outputs": [],
   "source": [
    "movie_producer_df = movie_producer_df.sort_values('year')"
   ]
  },
  {
   "cell_type": "code",
   "execution_count": 10,
   "metadata": {},
   "outputs": [],
   "source": [
    "movie_producer_df['producer_num'] = movie_producer_df['producers'].apply(lambda x: len(x))"
   ]
  },
  {
   "cell_type": "code",
   "execution_count": 14,
   "metadata": {},
   "outputs": [],
   "source": [
    "gender_df = support.get_staff_df('producers')[['_id', 'female_count', 'first_movie', 'last_movie', 'gender']]"
   ]
  },
  {
   "cell_type": "markdown",
   "metadata": {},
   "source": [
    "## count occurences"
   ]
  },
  {
   "cell_type": "markdown",
   "metadata": {},
   "source": [
    "### expand the producer column"
   ]
  },
  {
   "cell_type": "code",
   "execution_count": 11,
   "metadata": {},
   "outputs": [],
   "source": [
    "def unlistify(df, column):\n",
    "    matches = [i for i,n in enumerate(df.columns)\n",
    "             if n==column]\n",
    "\n",
    "    if len(matches)==0:\n",
    "        raise Exception('Failed to find column named ' + column +'!')\n",
    "    if len(matches)>1:\n",
    "        raise Exception('More than one column named ' + column +'!')\n",
    "\n",
    "    col_idx = matches[0]\n",
    "\n",
    "    # Helper function to expand and repeat the column col_idx\n",
    "    def fnc(d):\n",
    "        row = list(d.values[0])\n",
    "        bef = row[:col_idx]\n",
    "        aft = row[col_idx+1:]\n",
    "        col = row[col_idx]\n",
    "        z = [bef + [c] + aft for c in col]\n",
    "        return pd.DataFrame(z)\n",
    "\n",
    "    col_idx += len(df.index.shape) # Since we will push reset the index\n",
    "    index_names = list(df.index.names)\n",
    "    column_names = list(index_names) + list(df.columns)\n",
    "    return (df\n",
    "          .reset_index()\n",
    "          .groupby(level=0,as_index=0)\n",
    "          .apply(fnc)\n",
    "          .rename(columns = lambda i :column_names[i])\n",
    "          .set_index(index_names)\n",
    "          )"
   ]
  },
  {
   "cell_type": "code",
   "execution_count": 12,
   "metadata": {},
   "outputs": [],
   "source": [
    "unlistyfied_producer_df = unlistify(movie_producer_df, 'producers')"
   ]
  },
  {
   "cell_type": "code",
   "execution_count": 13,
   "metadata": {},
   "outputs": [],
   "source": [
    "unlistyfied_producer_df['producers'] = unlistyfied_producer_df['producers'].apply(lambda x: x[0])"
   ]
  },
  {
   "cell_type": "markdown",
   "metadata": {},
   "source": [
    "## Assign genders"
   ]
  },
  {
   "cell_type": "code",
   "execution_count": 32,
   "metadata": {
    "scrolled": true
   },
   "outputs": [
    {
     "data": {
      "text/html": [
       "<div>\n",
       "<style scoped>\n",
       "    .dataframe tbody tr th:only-of-type {\n",
       "        vertical-align: middle;\n",
       "    }\n",
       "\n",
       "    .dataframe tbody tr th {\n",
       "        vertical-align: top;\n",
       "    }\n",
       "\n",
       "    .dataframe thead th {\n",
       "        text-align: right;\n",
       "    }\n",
       "</style>\n",
       "<table border=\"1\" class=\"dataframe\">\n",
       "  <thead>\n",
       "    <tr style=\"text-align: right;\">\n",
       "      <th></th>\n",
       "      <th>_id</th>\n",
       "      <th>female_count</th>\n",
       "      <th>first_movie</th>\n",
       "      <th>last_movie</th>\n",
       "      <th>gender</th>\n",
       "    </tr>\n",
       "  </thead>\n",
       "  <tbody>\n",
       "    <tr>\n",
       "      <th>3292</th>\n",
       "      <td>nm0560370</td>\n",
       "      <td>0</td>\n",
       "      <td>1989</td>\n",
       "      <td>1989</td>\n",
       "      <td>female</td>\n",
       "    </tr>\n",
       "  </tbody>\n",
       "</table>\n",
       "</div>"
      ],
      "text/plain": [
       "            _id  female_count  first_movie  last_movie  gender\n",
       "3292  nm0560370             0         1989        1989  female"
      ]
     },
     "execution_count": 32,
     "metadata": {},
     "output_type": "execute_result"
    }
   ],
   "source": [
    "gender_df[gender_df['_id'] == 'nm0560370']"
   ]
  },
  {
   "cell_type": "code",
   "execution_count": 29,
   "metadata": {
    "scrolled": true
   },
   "outputs": [],
   "source": [
    "identifier = gender_df[['_id', 'gender']]\n",
    "identifier = identifier.set_index('_id')\n",
    "gender_identified_producers = unlistyfied_producer_df.join(identifier, on='producers', how='left', lsuffix=\"_m\", rsuffix='_p')"
   ]
  },
  {
   "cell_type": "code",
   "execution_count": 63,
   "metadata": {
    "scrolled": true
   },
   "outputs": [
    {
     "data": {
      "text/html": [
       "<div>\n",
       "<style scoped>\n",
       "    .dataframe tbody tr th:only-of-type {\n",
       "        vertical-align: middle;\n",
       "    }\n",
       "\n",
       "    .dataframe tbody tr th {\n",
       "        vertical-align: top;\n",
       "    }\n",
       "\n",
       "    .dataframe thead th {\n",
       "        text-align: right;\n",
       "    }\n",
       "</style>\n",
       "<table border=\"1\" class=\"dataframe\">\n",
       "  <thead>\n",
       "    <tr style=\"text-align: right;\">\n",
       "      <th></th>\n",
       "      <th>_id</th>\n",
       "      <th>producers</th>\n",
       "      <th>producing_gender_percentage</th>\n",
       "      <th>title</th>\n",
       "      <th>year</th>\n",
       "      <th>producer_num</th>\n",
       "      <th>gender</th>\n",
       "    </tr>\n",
       "  </thead>\n",
       "  <tbody>\n",
       "    <tr>\n",
       "      <th>22884</th>\n",
       "      <td>tt0099622</td>\n",
       "      <td>nm0000339</td>\n",
       "      <td>33.333333</td>\n",
       "      <td>Full Fathom Five</td>\n",
       "      <td>1990</td>\n",
       "      <td>3</td>\n",
       "      <td>male</td>\n",
       "    </tr>\n",
       "    <tr>\n",
       "      <th>22884</th>\n",
       "      <td>tt0099622</td>\n",
       "      <td>nm0515891</td>\n",
       "      <td>33.333333</td>\n",
       "      <td>Full Fathom Five</td>\n",
       "      <td>1990</td>\n",
       "      <td>3</td>\n",
       "      <td>male</td>\n",
       "    </tr>\n",
       "    <tr>\n",
       "      <th>22884</th>\n",
       "      <td>tt0099622</td>\n",
       "      <td>nm0560370</td>\n",
       "      <td>33.333333</td>\n",
       "      <td>Full Fathom Five</td>\n",
       "      <td>1990</td>\n",
       "      <td>3</td>\n",
       "      <td>female</td>\n",
       "    </tr>\n",
       "    <tr>\n",
       "      <th>22502</th>\n",
       "      <td>tt0100822</td>\n",
       "      <td>nm0135847</td>\n",
       "      <td>0.000000</td>\n",
       "      <td>Tune in Tomorrow...</td>\n",
       "      <td>1990</td>\n",
       "      <td>3</td>\n",
       "      <td>male</td>\n",
       "    </tr>\n",
       "    <tr>\n",
       "      <th>22502</th>\n",
       "      <td>tt0100822</td>\n",
       "      <td>nm0275836</td>\n",
       "      <td>0.000000</td>\n",
       "      <td>Tune in Tomorrow...</td>\n",
       "      <td>1990</td>\n",
       "      <td>3</td>\n",
       "      <td>male</td>\n",
       "    </tr>\n",
       "    <tr>\n",
       "      <th>22502</th>\n",
       "      <td>tt0100822</td>\n",
       "      <td>nm0850516</td>\n",
       "      <td>0.000000</td>\n",
       "      <td>Tune in Tomorrow...</td>\n",
       "      <td>1990</td>\n",
       "      <td>3</td>\n",
       "      <td>male</td>\n",
       "    </tr>\n",
       "    <tr>\n",
       "      <th>10973</th>\n",
       "      <td>tt0100935</td>\n",
       "      <td>nm0326512</td>\n",
       "      <td>0.000000</td>\n",
       "      <td>Wild at Heart</td>\n",
       "      <td>1990</td>\n",
       "      <td>4</td>\n",
       "      <td>male</td>\n",
       "    </tr>\n",
       "    <tr>\n",
       "      <th>10973</th>\n",
       "      <td>tt0100935</td>\n",
       "      <td>nm0474138</td>\n",
       "      <td>0.000000</td>\n",
       "      <td>Wild at Heart</td>\n",
       "      <td>1990</td>\n",
       "      <td>4</td>\n",
       "      <td>male</td>\n",
       "    </tr>\n",
       "    <tr>\n",
       "      <th>10973</th>\n",
       "      <td>tt0100935</td>\n",
       "      <td>nm0599863</td>\n",
       "      <td>0.000000</td>\n",
       "      <td>Wild at Heart</td>\n",
       "      <td>1990</td>\n",
       "      <td>4</td>\n",
       "      <td>male</td>\n",
       "    </tr>\n",
       "    <tr>\n",
       "      <th>10973</th>\n",
       "      <td>tt0100935</td>\n",
       "      <td>nm0797451</td>\n",
       "      <td>0.000000</td>\n",
       "      <td>Wild at Heart</td>\n",
       "      <td>1990</td>\n",
       "      <td>4</td>\n",
       "      <td>male</td>\n",
       "    </tr>\n",
       "  </tbody>\n",
       "</table>\n",
       "</div>"
      ],
      "text/plain": [
       "             _id  producers  producing_gender_percentage                title  \\\n",
       "22884  tt0099622  nm0000339                    33.333333     Full Fathom Five   \n",
       "22884  tt0099622  nm0515891                    33.333333     Full Fathom Five   \n",
       "22884  tt0099622  nm0560370                    33.333333     Full Fathom Five   \n",
       "22502  tt0100822  nm0135847                     0.000000  Tune in Tomorrow...   \n",
       "22502  tt0100822  nm0275836                     0.000000  Tune in Tomorrow...   \n",
       "22502  tt0100822  nm0850516                     0.000000  Tune in Tomorrow...   \n",
       "10973  tt0100935  nm0326512                     0.000000        Wild at Heart   \n",
       "10973  tt0100935  nm0474138                     0.000000        Wild at Heart   \n",
       "10973  tt0100935  nm0599863                     0.000000        Wild at Heart   \n",
       "10973  tt0100935  nm0797451                     0.000000        Wild at Heart   \n",
       "\n",
       "       year  producer_num  gender  \n",
       "22884  1990             3    male  \n",
       "22884  1990             3    male  \n",
       "22884  1990             3  female  \n",
       "22502  1990             3    male  \n",
       "22502  1990             3    male  \n",
       "22502  1990             3    male  \n",
       "10973  1990             4    male  \n",
       "10973  1990             4    male  \n",
       "10973  1990             4    male  \n",
       "10973  1990             4    male  "
      ]
     },
     "execution_count": 63,
     "metadata": {},
     "output_type": "execute_result"
    }
   ],
   "source": [
    "gender_identified_producers.head(10)"
   ]
  },
  {
   "cell_type": "markdown",
   "metadata": {},
   "source": [
    "### Occurences "
   ]
  },
  {
   "cell_type": "code",
   "execution_count": 39,
   "metadata": {
    "scrolled": true
   },
   "outputs": [
    {
     "data": {
      "image/png": "[encoded data removed]",
      "text/plain": [
       "<Figure size 360x216 with 1 Axes>"
      ]
     },
     "metadata": {},
     "output_type": "display_data"
    }
   ],
   "source": [
    "fig, ax = plt.subplots(figsize=(5,3))\n",
    "\n",
    "for gender, df in gender_identified_producers.groupby('gender'):\n",
    "    occurence_list = df['producers'].value_counts().values\n",
    "    ax.hist(occurence_list, bins=np.arange(0, 20, 1), histtype='step', density=True, label=gender)\n",
    "ax.legend(loc='upper right')\n",
    "fontsize=10\n",
    "#figure style\n",
    "ax.set_ylabel('Probability density', fontsize=1.5*fontsize)\n",
    "ax.set_xlabel('Occurences', fontsize=1.5*fontsize)\n",
    "ax.tick_params(axis='both', which='major', labelsize=fontsize)\n",
    "ax.tick_params(axis='both', which='minor', labelsize=fontsize)\n",
    "ax.spines['right'].set_visible(False)\n",
    "ax.spines['top'].set_visible(False)"
   ]
  },
  {
   "cell_type": "code",
   "execution_count": null,
   "metadata": {},
   "outputs": [],
   "source": [
    "y_fit = stats.expon.pdf(np.arange(1, max(occurence_list), 1), loc, scale)"
   ]
  },
  {
   "cell_type": "code",
   "execution_count": 47,
   "metadata": {},
   "outputs": [
    {
     "data": {
      "image/png": "[encoded data removed]",
      "text/plain": [
       "<Figure size 360x216 with 1 Axes>"
      ]
     },
     "metadata": {},
     "output_type": "display_data"
    }
   ],
   "source": [
    "fig, ax = plt.subplots(figsize=(5,3))\n",
    "\n",
    "for gender, df in gender_identified_producers.groupby('gender'):\n",
    "    occurence_list = df['producers'].value_counts().values\n",
    "    ax.hist(occurence_list, bins=np.arange(0, occurence_list.max(), 1), density=True, label=gender, alpha=0.2)\n",
    "    \n",
    "ax.legend(loc='upper right')\n",
    "ax.set_yscale('log')\n",
    "fontsize=10\n",
    "#figure style\n",
    "ax.set_ylabel('Probability density', fontsize=1.5*fontsize)\n",
    "ax.set_xlabel('Occurences', fontsize=1.5*fontsize)\n",
    "ax.tick_params(axis='both', which='major', labelsize=fontsize)\n",
    "ax.tick_params(axis='both', which='minor', labelsize=fontsize)\n",
    "ax.spines['right'].set_visible(False)\n",
    "ax.spines['top'].set_visible(False)\n",
    "#saving\n",
    "plt.tight_layout()\n",
    "# plt.savefig('../result/90s_producer_movie_occurences_logy.pdf', dpi=300, transparent=True)"
   ]
  },
  {
   "cell_type": "markdown",
   "metadata": {},
   "source": [
    "## 연도별로 여자 프로듀서가 나오는 영화 개수를 센다. \n",
    "\n",
    "* count all the rows with the female in gender_identified_producer\n",
    "* divide by the total number of movies in the year\n",
    "* identify unique movies\n"
   ]
  },
  {
   "cell_type": "code",
   "execution_count": 71,
   "metadata": {},
   "outputs": [],
   "source": [
    "movies_with_female = {}\n",
    "for year, df in gender_identified_producers.groupby('year'):\n",
    "    N_movie_all = len(df._id.unique().tolist())\n",
    "    N_movie_female = len(df._id[df.gender == 'female'].unique().tolist())\n",
    "    movies_with_female[year] = float(N_movie_female)/N_movie_all\n",
    "    "
   ]
  },
  {
   "cell_type": "code",
   "execution_count": 72,
   "metadata": {},
   "outputs": [
    {
     "data": {
      "text/plain": [
       "{1990: 0.453551912568306,\n",
       " 1991: 0.5611111111111111,\n",
       " 1992: 0.5445544554455446,\n",
       " 1993: 0.5408805031446541,\n",
       " 1994: 0.5706806282722513,\n",
       " 1995: 0.5618556701030928,\n",
       " 1996: 0.6096491228070176,\n",
       " 1997: 0.6565217391304348,\n",
       " 1998: 0.69377990430622,\n",
       " 1999: 0.6180257510729614}"
      ]
     },
     "execution_count": 72,
     "metadata": {},
     "output_type": "execute_result"
    },
    {
     "data": {
      "image/png": "[encoded data removed]",
      "text/plain": [
       "<Figure size 360x216 with 1 Axes>"
      ]
     },
     "metadata": {},
     "output_type": "display_data"
    }
   ],
   "source": [
    "fig, ax = plt.subplots(figsize=(5,3))\n",
    "ax.scatter(movies_with_female.keys(), movies_with_female.values())\n",
    "ax.set_ylim([0.4, 0.8])\n",
    "\n",
    "movies_with_female"
   ]
  },
  {
   "cell_type": "markdown",
   "metadata": {},
   "source": [
    "### When the producers are randomly gender identified"
   ]
  },
  {
   "cell_type": "code",
   "execution_count": 94,
   "metadata": {},
   "outputs": [],
   "source": [
    "all_producers = gender_identified_producers.producers.unique().tolist()"
   ]
  },
  {
   "cell_type": "code",
   "execution_count": 95,
   "metadata": {},
   "outputs": [],
   "source": [
    "female_producers = np.random.choice(all_producers, len(f))"
   ]
  },
  {
   "cell_type": "code",
   "execution_count": 96,
   "metadata": {},
   "outputs": [],
   "source": [
    "randomly_gender_assigned_df = unlistyfied_producer_df.copy(deep=True)\n",
    "randomly_gender_assigned_df['gender'] = randomly_gender_assigned_df.apply(lambda row: 'female' if row.producers in female_producers else 'male', axis=1)"
   ]
  },
  {
   "cell_type": "code",
   "execution_count": 97,
   "metadata": {},
   "outputs": [
    {
     "data": {
      "text/plain": [
       "{1990: 0.5846994535519126,\n",
       " 1991: 0.5055555555555555,\n",
       " 1992: 0.48514851485148514,\n",
       " 1993: 0.5345911949685535,\n",
       " 1994: 0.6178010471204188,\n",
       " 1995: 0.5927835051546392,\n",
       " 1996: 0.5964912280701754,\n",
       " 1997: 0.5956521739130435,\n",
       " 1998: 0.645933014354067,\n",
       " 1999: 0.6051502145922747}"
      ]
     },
     "execution_count": 97,
     "metadata": {},
     "output_type": "execute_result"
    },
    {
     "data": {
      "image/png": "[encoded data removed]",
      "text/plain": [
       "<Figure size 360x216 with 1 Axes>"
      ]
     },
     "metadata": {},
     "output_type": "display_data"
    }
   ],
   "source": [
    "movies_with_female = {}\n",
    "for year, df in randomly_gender_assigned_df.groupby('year'):\n",
    "    N_movie_all = len(df._id.unique().tolist())\n",
    "    N_movie_female = len(df._id[df.gender == 'female'].unique().tolist())\n",
    "    movies_with_female[year] = float(N_movie_female)/N_movie_all\n",
    "fig, ax = plt.subplots(figsize=(5,3))\n",
    "ax.scatter(movies_with_female.keys(), movies_with_female.values())\n",
    "ax.set_ylim([0.4, 0.8])\n",
    "movies_with_female"
   ]
  },
  {
   "cell_type": "markdown",
   "metadata": {},
   "source": [
    "## Movie female ratios"
   ]
  },
  {
   "cell_type": "code",
   "execution_count": 99,
   "metadata": {},
   "outputs": [
    {
     "data": {
      "text/plain": [
       "<matplotlib.axes._subplots.AxesSubplot at 0x7feb260b3dd8>"
      ]
     },
     "execution_count": 99,
     "metadata": {},
     "output_type": "execute_result"
    },
    {
     "data": {
      "image/png": "[encoded data removed]",
      "text/plain": [
       "<Figure size 432x288 with 1 Axes>"
      ]
     },
     "metadata": {},
     "output_type": "display_data"
    }
   ],
   "source": [
    "gender_identified_producers.boxplot(column='producing_gender_percentage', by='year')"
   ]
  },
  {
   "cell_type": "markdown",
   "metadata": {},
   "source": [
    "## Gap "
   ]
  },
  {
   "cell_type": "code",
   "execution_count": 101,
   "metadata": {},
   "outputs": [],
   "source": [
    "gap_list = {}\n",
    "count =0\n",
    "for p, group in unlistyfied_producer_df.groupby(['producers']):\n",
    "    group = group.sort_values('year')\n",
    "    diff = group.year.diff().values\n",
    "    gap_list[p] = list(diff[~np.isnan(diff)])"
   ]
  },
  {
   "cell_type": "code",
   "execution_count": 103,
   "metadata": {},
   "outputs": [],
   "source": [
    "female_gap = []\n",
    "male_gap = []\n",
    "female_producers = gender_identified_producers[gender_identified_producers.gender == 'female'].producers.unique().tolist()\n",
    "for p, gap in gap_list.items():\n",
    "    if p in female_producers:\n",
    "        female_gap.extend(gap)\n",
    "    else:\n",
    "        male_gap.extend(gap)"
   ]
  },
  {
   "cell_type": "code",
   "execution_count": 121,
   "metadata": {},
   "outputs": [
    {
     "data": {
      "image/png": "[encoded data removed]",
      "text/plain": [
       "<Figure size 360x216 with 1 Axes>"
      ]
     },
     "metadata": {},
     "output_type": "display_data"
    }
   ],
   "source": [
    "fig, ax = plt.subplots(figsize=(5,3))\n",
    "ax.hist(female_gap, bins=np.arange(0, max(female_gap)+1,1), density=True, color='deeppink', alpha=0.5)\n",
    "ax.hist(male_gap, bins=np.arange(0, max(male_gap)+1,1), density=True, color='navy', alpha=0.5, hatch='X')\n",
    "\n",
    "#figure style\n",
    "ax.set_ylabel('Probability density', fontsize=1.5*fontsize)\n",
    "ax.set_xlabel('Gap duration sizes [year]', fontsize=1.5*fontsize)\n",
    "ax.tick_params(axis='both', which='major', labelsize=fontsize)\n",
    "ax.tick_params(axis='both', which='minor', labelsize=fontsize)\n",
    "ax.spines['right'].set_visible(False)\n",
    "ax.spines['top'].set_visible(False)\n",
    "#saving\n",
    "plt.tight_layout()\n",
    "plt.savefig('/home/projects/movie-network/result/basic_properties/90s_producer_movie_gaps_gender.pdf', dpi=300, transparent=True)"
   ]
  },
  {
   "cell_type": "markdown",
   "metadata": {},
   "source": [
    "## Team sizes that females belong to "
   ]
  },
  {
   "cell_type": "code",
   "execution_count": 135,
   "metadata": {},
   "outputs": [
    {
     "data": {
      "text/plain": [
       "(array([  0.,  58.,  88., 167., 151., 141.,  80.,  74.,  34.,  17.,  10.,\n",
       "          3.,   6.,   1.,   0.,   2.]),\n",
       " array([ 0,  1,  2,  3,  4,  5,  6,  7,  8,  9, 10, 11, 12, 13, 14, 15, 16]),\n",
       " <a list of 16 Patch objects>)"
      ]
     },
     "execution_count": 135,
     "metadata": {},
     "output_type": "execute_result"
    },
    {
     "data": {
      "image/png": "[encoded data removed]",
      "text/plain": [
       "<Figure size 360x216 with 1 Axes>"
      ]
     },
     "metadata": {},
     "output_type": "display_data"
    }
   ],
   "source": [
    "female_team = []\n",
    "male_team = []\n",
    "for movie, df in gender_identified_producers.groupby('_id'):\n",
    "    producer_num = df.producer_num.values[0]\n",
    "    if 'female' in df.gender.tolist():\n",
    "        female_team.append(producer_num)\n",
    "    else:\n",
    "        male_team.append(producer_num)\n",
    "\n",
    "fig, ax = plt.subplots(figsize=(5,3))\n",
    "ax.hist(female_team, bins=np.arange(0, max(female_team)+1, 1), color='orangered', alpha=0.5)\n",
    "ax.hist(male_team, bins=np.arange(0, max(male_team)+1, 1), color='navy', alpha=0.5)"
   ]
  },
  {
   "cell_type": "code",
   "execution_count": 136,
   "metadata": {},
   "outputs": [
    {
     "name": "stdout",
     "output_type": "stream",
     "text": [
      "5.937128292268479 2.4133844241258604\n",
      "4.466346153846154 2.2449349218305725\n"
     ]
    }
   ],
   "source": [
    "print(np.mean(female_team), np.std(female_team))\n",
    "print(np.mean(male_team), np.std(male_team))"
   ]
  },
  {
   "cell_type": "markdown",
   "metadata": {},
   "source": [
    "### 매해 한 사람당 만드는 영화 개수"
   ]
  },
  {
   "cell_type": "code",
   "execution_count": 143,
   "metadata": {},
   "outputs": [],
   "source": [
    "movies_per_year_per_producer = gender_identified_producers.groupby(['gender', 'year', 'producers']).size()"
   ]
  },
  {
   "cell_type": "code",
   "execution_count": 146,
   "metadata": {},
   "outputs": [
    {
     "data": {
      "text/plain": [
       "9366"
      ]
     },
     "execution_count": 146,
     "metadata": {},
     "output_type": "execute_result"
    }
   ],
   "source": [
    "producers_per_year = gender_identified_producers.groupby(['gender', 'year','producers'])\n",
    "len(producers_per_year)"
   ]
  },
  {
   "cell_type": "code",
   "execution_count": 152,
   "metadata": {},
   "outputs": [
    {
     "data": {
      "image/png": "[encoded data removed]",
      "text/plain": [
       "<Figure size 360x216 with 1 Axes>"
      ]
     },
     "metadata": {},
     "output_type": "display_data"
    }
   ],
   "source": [
    "fig, ax = plt.subplots(figsize=(5,3))\n",
    "\n",
    "for gender, df_gender in gender_identified_producers.groupby('gender'):\n",
    "    movie_count = df_gender.groupby(['year', 'producers']).size()\n",
    "    ax.hist(movie_count, bins=np.arange(0, max(movie_count)+1,1), density=True, label=gender, alpha=0.5)\n",
    "    #figure style\n",
    "    ax.set_ylabel('Probability density', fontsize=1.5*fontsize)\n",
    "    ax.set_xlabel('Number of movies /(year*producer)', fontsize=1.5*fontsize)\n",
    "    ax.tick_params(axis='both', which='major', labelsize=fontsize)\n",
    "    ax.tick_params(axis='both', which='minor', labelsize=fontsize)\n",
    "    ax.spines['right'].set_visible(False)\n",
    "    ax.spines['top'].set_visible(False)"
   ]
  },
  {
   "cell_type": "code",
   "execution_count": 148,
   "metadata": {},
   "outputs": [
    {
     "data": {
      "image/png": "[encoded data removed]",
      "text/plain": [
       "<Figure size 360x216 with 1 Axes>"
      ]
     },
     "metadata": {},
     "output_type": "display_data"
    }
   ],
   "source": [
    "fig, ax = plt.subplots(figsize=(5,3))\n",
    "ax.hist(movie_count, bins=np.arange(0, max(movie_count)+1,1), density=True, color='#8E388E', linestyle='dashed')\n",
    "#figure style\n",
    "ax.set_ylabel('Probability density', fontsize=1.5*fontsize)\n",
    "ax.set_xlabel('Number of movies /(year*producer)', fontsize=1.5*fontsize)\n",
    "ax.tick_params(axis='both', which='major', labelsize=fontsize)\n",
    "ax.tick_params(axis='both', which='minor', labelsize=fontsize)\n",
    "ax.spines['right'].set_visible(False)\n",
    "ax.spines['top'].set_visible(False)\n",
    "#saving\n",
    "# plt.tight_layout()\n",
    "# plt.savefig('../result/90s_producer_movie_gaps.pdf', dpi=300, transparent=True)"
   ]
  },
  {
   "cell_type": "code",
   "execution_count": 153,
   "metadata": {},
   "outputs": [
    {
     "ename": "SyntaxError",
     "evalue": "invalid syntax (<ipython-input-153-5a169ce1a249>, line 2)",
     "output_type": "error",
     "traceback": [
      "\u001b[0;36m  File \u001b[0;32m\"<ipython-input-153-5a169ce1a249>\"\u001b[0;36m, line \u001b[0;32m2\u001b[0m\n\u001b[0;31m    **fuck\u001b[0m\n\u001b[0m     ^\u001b[0m\n\u001b[0;31mSyntaxError\u001b[0m\u001b[0;31m:\u001b[0m invalid syntax\n"
     ]
    }
   ],
   "source": [
    "fuck = {'a':1, 'b':2}\n",
    "\n",
    "**fuck"
   ]
  },
  {
   "cell_type": "code",
   "execution_count": null,
   "metadata": {},
   "outputs": [],
   "source": [
    "len(movie_90s)"
   ]
  },
  {
   "cell_type": "code",
   "execution_count": null,
   "metadata": {},
   "outputs": [],
   "source": []
  }
 ],
 "metadata": {
  "kernelspec": {
   "display_name": "Python 3",
   "language": "python",
   "name": "python3"
  },
  "language_info": {
   "codemirror_mode": {
    "name": "ipython",
    "version": 3
   },
   "file_extension": ".py",
   "mimetype": "text/x-python",
   "name": "python",
   "nbconvert_exporter": "python",
   "pygments_lexer": "ipython3",
   "version": "3.6.5"
  }
 },
 "nbformat": 4,
 "nbformat_minor": 2
}
