{
 "cells": [
  {
   "cell_type": "code",
   "execution_count": 1,
   "metadata": {},
   "outputs": [
    {
     "name": "stdout",
     "output_type": "stream",
     "text": [
      "/home/staff/junelee/Research-Project/movie_propagation_reserve/src\n"
     ]
    }
   ],
   "source": [
    "import json\n",
    "import os\n",
    "import sys\n",
    "from collections import Counter, defaultdict\n",
    "from itertools import combinations\n",
    "import numpy as np\n",
    "import pandas as pd\n",
    "import matplotlib.pyplot as plt\n",
    "import networkx as nx\n",
    "import random \n",
    "from copy import copy\n",
    "\n",
    "src_dir = os.path.abspath(os.path.join(os.pardir, os.pardir,'src'))\n",
    "sys.path[0] = src_dir\n",
    "print(sys.path[0])\n",
    "from parser.support import ROLES, CREDITS\n",
    "from parser.my_mongo_db_login import DB_LOGIN_INFO\n",
    "import parser.support as support\n",
    "import network.shift_graph_maker as sgm\n",
    "import model.contagion as contagion\n",
    "import model.general as gen\n"
   ]
  },
  {
   "cell_type": "code",
   "execution_count": 2,
   "metadata": {},
   "outputs": [],
   "source": [
    "%reload_ext autoreload\n",
    "%autoreload 2\n",
    "%load_ext snakeviz\n",
    "\n",
    "%matplotlib inline"
   ]
  },
  {
   "cell_type": "code",
   "execution_count": 3,
   "metadata": {},
   "outputs": [],
   "source": [
    "with open('/home/projects/movie-network/data/raw_data/movies.json') as f:\n",
    "    movie_file = f.read()\n",
    "    movie_data = json.loads(movie_file)"
   ]
  },
  {
   "cell_type": "code",
   "execution_count": 4,
   "metadata": {},
   "outputs": [
    {
     "name": "stdout",
     "output_type": "stream",
     "text": [
      "Loaded IMDb movies producing_gender_percentage\n",
      "Got all_movies\n"
     ]
    }
   ],
   "source": [
    "role = 'producing'\n",
    "role_key = role + \"_gender_percentage\"\n",
    "all_movies = support.get_movies_df(role_key)\n",
    "print('Got all_movies')\n",
    "gender_df = support.get_staff_df('producers')[['_id', 'female_count', 'first_movie', 'last_movie', 'gender']]"
   ]
  },
  {
   "cell_type": "code",
   "execution_count": 5,
   "metadata": {},
   "outputs": [],
   "source": [
    "movie_90s = all_movies[(all_movies.year >= 1990) & (all_movies.year < 2000)]\n",
    "movie_90s = movie_90s.sort_values('year')"
   ]
  },
  {
   "cell_type": "code",
   "execution_count": 6,
   "metadata": {},
   "outputs": [],
   "source": [
    "#get 90s movies with only producer, id, title, year...\n",
    "movie_producer_df = movie_90s[['_id', 'producers', 'producing_gender_percentage', 'title', 'year']]"
   ]
  },
  {
   "cell_type": "code",
   "execution_count": 187,
   "metadata": {
    "scrolled": true
   },
   "outputs": [],
   "source": [
    "producer_90s = [i[0] for sublist in movie_producer_df.producers.tolist() for i in sublist]"
   ]
  },
  {
   "cell_type": "code",
   "execution_count": 12,
   "metadata": {},
   "outputs": [
    {
     "data": {
      "text/plain": [
       "5572"
      ]
     },
     "execution_count": 12,
     "metadata": {},
     "output_type": "execute_result"
    }
   ],
   "source": [
    "gender_df = support.get_staff_df('producers')[['_id', 'female_count', 'first_movie', 'last_movie', 'gender']]\n",
    "females = gender_df[(gender_df.gender == 'female')]._id.tolist()\n",
    "len(females)"
   ]
  },
  {
   "cell_type": "markdown",
   "metadata": {},
   "source": [
    "## Aggregate by year"
   ]
  },
  {
   "cell_type": "code",
   "execution_count": 176,
   "metadata": {},
   "outputs": [],
   "source": [
    "agg_year = 5\n",
    "start_year = 1990\n",
    "end_year = 2000\n",
    "\n",
    "grouped_by_year = movie_90s.groupby(pd.cut(movie_90s['year'], np.arange(start_year-1, end_year, agg_year)))"
   ]
  },
  {
   "cell_type": "code",
   "execution_count": 177,
   "metadata": {},
   "outputs": [
    {
     "name": "stdout",
     "output_type": "stream",
     "text": [
      "(1989, 1994]\n",
      "(1994, 1999]\n"
     ]
    }
   ],
   "source": [
    "for year, df in grouped_by_year:\n",
    "    print(year)\n"
   ]
  },
  {
   "cell_type": "code",
   "execution_count": 188,
   "metadata": {},
   "outputs": [
    {
     "data": {
      "text/plain": [
       "1064"
      ]
     },
     "execution_count": 188,
     "metadata": {},
     "output_type": "execute_result"
    }
   ],
   "source": [
    "female_90s = [i for i in females if i in producer_90s]\n",
    "len(female_90s)"
   ]
  },
  {
   "cell_type": "markdown",
   "metadata": {},
   "source": [
    "## Build projected network"
   ]
  },
  {
   "cell_type": "code",
   "execution_count": 34,
   "metadata": {},
   "outputs": [],
   "source": [
    "belief_type = 'empirical'\n",
    "p, d, threshold = 0.1, 1, 1"
   ]
  },
  {
   "cell_type": "code",
   "execution_count": 180,
   "metadata": {},
   "outputs": [
    {
     "data": {
      "text/plain": [
       "array([], shape=(184, 0), dtype=object)"
      ]
     },
     "execution_count": 180,
     "metadata": {},
     "output_type": "execute_result"
    }
   ],
   "source": [
    "adopter_history[:,1:0]"
   ]
  },
  {
   "cell_type": "code",
   "execution_count": 16,
   "metadata": {},
   "outputs": [],
   "source": [
    "#get only producers to check the links\n",
    "producer_role_list = dict(zip(df._id, df.producers))\n",
    "producer_list = {}\n",
    "for movie, producers in producer_role_list.items():\n",
    "    producer_list[movie] = [i[0] for i in producers]"
   ]
  },
  {
   "cell_type": "code",
   "execution_count": 17,
   "metadata": {},
   "outputs": [
    {
     "data": {
      "text/plain": [
       "712"
      ]
     },
     "execution_count": 17,
     "metadata": {},
     "output_type": "execute_result"
    }
   ],
   "source": [
    "all_producers = list(set([p for p_list in producer_list.values() for p in p_list]))\n",
    "len(all_producers)"
   ]
  },
  {
   "cell_type": "code",
   "execution_count": 18,
   "metadata": {},
   "outputs": [
    {
     "data": {
      "text/plain": [
       "['nm0326512', 'nm0474138', 'nm0599863', 'nm0797451']"
      ]
     },
     "execution_count": 18,
     "metadata": {},
     "output_type": "execute_result"
    }
   ],
   "source": [
    "test_id = 'tt0100935'\n",
    "producer_list[test_id]"
   ]
  },
  {
   "cell_type": "code",
   "execution_count": 31,
   "metadata": {},
   "outputs": [],
   "source": [
    "total_females = gender_df[gender_df.gender == 'female']._id.tolist()\n",
    "total_producers = [i[0] for sublist in movie_90s.producers.tolist() for i in sublist]\n",
    "seeds = [i for i in total_producers if i in total_females]"
   ]
  },
  {
   "cell_type": "code",
   "execution_count": 54,
   "metadata": {},
   "outputs": [
    {
     "data": {
      "text/plain": [
       "1064"
      ]
     },
     "execution_count": 54,
     "metadata": {},
     "output_type": "execute_result"
    }
   ],
   "source": [
    "len(list(set(seeds)))"
   ]
  },
  {
   "cell_type": "code",
   "execution_count": 44,
   "metadata": {},
   "outputs": [],
   "source": [
    "G = sgm.build_projected_network(df, seeds, belief_type, threshold)"
   ]
  },
  {
   "cell_type": "code",
   "execution_count": 45,
   "metadata": {},
   "outputs": [
    {
     "data": {
      "text/plain": [
       "True"
      ]
     },
     "execution_count": 45,
     "metadata": {},
     "output_type": "execute_result"
    }
   ],
   "source": [
    "#check if the producers share edges to the exact number of movies they shot together\n",
    "for i, j in combinations(all_producers, 2):\n",
    "    edges = G.number_of_edges(i,j)\n",
    "    if edges == 2:\n",
    "        movie_num = edges\n",
    "        test_producers = [i,j]\n",
    "        break\n",
    "        \n",
    "shared_movie = []\n",
    "for movie, producers in producer_list.items():\n",
    "    if all(e in producers for e in test_producers):\n",
    "        shared_movie.append(movie)\n",
    "len(shared_movie) == movie_num"
   ]
  },
  {
   "cell_type": "markdown",
   "metadata": {},
   "source": [
    "## Contagon"
   ]
  },
  {
   "cell_type": "markdown",
   "metadata": {},
   "source": [
    "### Sequential - No weights"
   ]
  },
  {
   "cell_type": "code",
   "execution_count": 46,
   "metadata": {},
   "outputs": [],
   "source": [
    "iterations = 20\n",
    "\n",
    "producer_node_ids = [n for n in G.nodes() if G.node[n]['node_type']=='P']\n"
   ]
  },
  {
   "cell_type": "code",
   "execution_count": 47,
   "metadata": {},
   "outputs": [
    {
     "data": {
      "text/plain": [
       "183"
      ]
     },
     "execution_count": 47,
     "metadata": {},
     "output_type": "execute_result"
    }
   ],
   "source": [
    "len(df)"
   ]
  },
  {
   "cell_type": "code",
   "execution_count": 49,
   "metadata": {
    "scrolled": true
   },
   "outputs": [],
   "source": [
    "G, adopter_history = contagion.contagion_sequential_projected_network(G, len(df), year, p, d, threshold)"
   ]
  },
  {
   "cell_type": "code",
   "execution_count": 50,
   "metadata": {},
   "outputs": [
    {
     "data": {
      "text/plain": [
       "(184, 183)"
      ]
     },
     "execution_count": 50,
     "metadata": {},
     "output_type": "execute_result"
    }
   ],
   "source": [
    "len(adopter_history), len(df)"
   ]
  },
  {
   "cell_type": "markdown",
   "metadata": {},
   "source": [
    "### Cumulative adopters over aggregation"
   ]
  },
  {
   "cell_type": "code",
   "execution_count": 144,
   "metadata": {},
   "outputs": [
    {
     "data": {
      "text/plain": [
       "{'a': 9}"
      ]
     },
     "execution_count": 144,
     "metadata": {},
     "output_type": "execute_result"
    }
   ],
   "source": [
    "dict_test = {}\n",
    "for i in range(10):\n",
    "    dict_test['a'] = i\n",
    "dict_test"
   ]
  },
  {
   "cell_type": "code",
   "execution_count": 65,
   "metadata": {},
   "outputs": [],
   "source": [
    "# def cumulative_adopters_over_time_projected_network_synchronous_update(df, interval, belief_type, p, d, t, iterations=20):\n",
    "total_female = copy(seeds)\n",
    "total_producers = [i[0] for sublist in movie_90s.producers.tolist() for i in sublist]\n",
    "seeds = [i for i in total_producers if i in total_female]\n",
    "seeds = list(set(seeds))"
   ]
  },
  {
   "cell_type": "code",
   "execution_count": 53,
   "metadata": {},
   "outputs": [],
   "source": [
    "total_producers = gender_df._id.tolist()\n",
    "belief_dict = {n:1 if n in seeds else 0 for n in total_producers}"
   ]
  },
  {
   "cell_type": "code",
   "execution_count": 87,
   "metadata": {},
   "outputs": [
    {
     "data": {
      "text/plain": [
       "1990"
      ]
     },
     "execution_count": 87,
     "metadata": {},
     "output_type": "execute_result"
    }
   ],
   "source": [
    "df_raw.year.iloc[0]"
   ]
  },
  {
   "cell_type": "code",
   "execution_count": 83,
   "metadata": {},
   "outputs": [],
   "source": [
    "df_raw = movie_90s.copy(deep=True)"
   ]
  },
  {
   "cell_type": "code",
   "execution_count": 164,
   "metadata": {},
   "outputs": [],
   "source": [
    "agg_year = 1\n",
    "start_year = 1990\n",
    "end_year = 2000\n",
    "p, d, t = 0.1, 1.0, 1.0\n",
    "\n",
    "\n",
    "def cumulative_adopters_projected_network_sequential(df_raw, interval, seeds, belief_type, p, d, threshold):\n",
    "    \"\"\"\n",
    "    Calculate cumulative of projected network over time\n",
    "    input\n",
    "        df_raw - df data with movies as rows\n",
    "        interval - interval of aggregation \n",
    "    \"\"\"\n",
    "    start_year = df_raw.year.iloc[0] - 1\n",
    "    end_year = df_raw.year.iloc[-1] + 1\n",
    "    grouped_by_year = df_raw.groupby(pd.cut(df_raw['year'], np.arange(start_year, end_year, agg_year)))\n",
    "    \n",
    "    #make dictionary that keeps track of belief scale\n",
    "    total_nodes = list(set([i[0] for sublist in df_raw.producers.tolist() for i in sublist]))\n",
    "    belief_dict = {n:1 if n in seeds else 0 for n in total_nodes}\n",
    "    \n",
    "    existing_adopters = list(set(seeds))\n",
    "    total_adopter_history = []\n",
    "    total_steps = 0\n",
    "    for interval, df in grouped_by_year:\n",
    "        #make network\n",
    "        G = sgm.build_projected_network(df, seeds, belief_type, threshold)\n",
    "        #update beliefs in new G for the nodes that were already been in the system\n",
    "        for n in G.nodes():\n",
    "            G.node[n]['belief'] = belief_dict[n]\n",
    "        #update adoption status\n",
    "        G = gen.update_adoption_status(G, G.nodes(), threshold)\n",
    "        #calculate adopter\n",
    "        G_update, adopter_history = contagion.contagion_sequential_projected_network(G, len(df), interval, p, d, threshold)\n",
    "        \n",
    "        #calculating adopters that are in the system, but was not in G\n",
    "        adopter_update = [n for n in G_update.nodes() if G_update.node[n]['status']=='Adopter'] \n",
    "        adopters_not_in_G = [k for k in belief_dict.keys() if (belief_dict[k] >= threshold) and (k not in adopter_update)]\n",
    "        #add adopters that are not in the sub G but are actually in the system\n",
    "        adopter_history[:,2] += len(adopters_not_in_G)\n",
    "\n",
    "        if total_adopter_history == []:\n",
    "            total_adopter_history = adopter_history    \n",
    "        else:\n",
    "            #add the dates\n",
    "            adopter_history[:,1] += (len(total_adopter_history)-1)            \n",
    "            total_adopter_history = np.append(total_adopter_history, adopter_history[1:], axis=0)\n",
    "        #update the belief dictionary\n",
    "        for k in G_update.nodes():\n",
    "            belief_dict[k] = G_update.node[k]['belief']\n",
    "        \n",
    "    return total_adopter_history"
   ]
  },
  {
   "cell_type": "code",
   "execution_count": 167,
   "metadata": {},
   "outputs": [
    {
     "data": {
      "text/plain": [
       "(2010, 2009)"
      ]
     },
     "execution_count": 167,
     "metadata": {},
     "output_type": "execute_result"
    }
   ],
   "source": [
    "len(total_adopter_history), len(df_raw)"
   ]
  },
  {
   "cell_type": "code",
   "execution_count": 165,
   "metadata": {},
   "outputs": [
    {
     "name": "stderr",
     "output_type": "stream",
     "text": [
      "/home/staff/junelee/miniconda3/envs/movie_network/lib/python3.6/site-packages/ipykernel_launcher.py:42: DeprecationWarning: elementwise == comparison failed; this will raise an error in the future.\n"
     ]
    }
   ],
   "source": [
    "total_adopter_history = cumulative_adopters_projected_network_sequential(df_raw, 1, seeds, belief_type, p, d, threshold)"
   ]
  },
  {
   "cell_type": "code",
   "execution_count": 151,
   "metadata": {},
   "outputs": [],
   "source": [
    "df_adopter = pd.DataFrame(total_adopter_history, columns=['year', 'movie_order', '1'])"
   ]
  },
  {
   "cell_type": "code",
   "execution_count": 152,
   "metadata": {},
   "outputs": [],
   "source": [
    "df_adopter = df_adopter.set_index(['movie_order', 'year'])\n"
   ]
  },
  {
   "cell_type": "code",
   "execution_count": 169,
   "metadata": {},
   "outputs": [
    {
     "data": {
      "text/plain": [
       "array([(1989, 1990), (1989, 1990), (1989, 1990), ..., (1998, 1999),\n",
       "       (1998, 1999), (1998, 1999)], dtype=object)"
      ]
     },
     "execution_count": 169,
     "metadata": {},
     "output_type": "execute_result"
    }
   ],
   "source": [
    "total_adopter_history[:,0]"
   ]
  },
  {
   "cell_type": "code",
   "execution_count": 155,
   "metadata": {},
   "outputs": [
    {
     "data": {
      "text/plain": [
       "2019"
      ]
     },
     "execution_count": 155,
     "metadata": {},
     "output_type": "execute_result"
    }
   ],
   "source": [
    "len(total_adopter_history)"
   ]
  },
  {
   "cell_type": "code",
   "execution_count": 61,
   "metadata": {},
   "outputs": [
    {
     "data": {
      "text/plain": [
       "(958, 260)"
      ]
     },
     "execution_count": 61,
     "metadata": {},
     "output_type": "execute_result"
    }
   ],
   "source": [
    "#calculating adopters that are in the system, but was not in G\n",
    "adopter_update = [n for n in G_update.nodes() if G_update.node[n]['status']=='Adopter'] \n",
    "adopters_not_in_G = [k for k in belief_dict.keys() if (belief_dict[k] >= t) and (k not in adopter_update)]\n",
    "len(set(adopters_not_in_G)), len(set(adopter_update))"
   ]
  },
  {
   "cell_type": "code",
   "execution_count": 64,
   "metadata": {},
   "outputs": [
    {
     "data": {
      "text/plain": [
       "(1064, 1218, 106)"
      ]
     },
     "execution_count": 64,
     "metadata": {},
     "output_type": "execute_result"
    }
   ],
   "source": [
    "len(set(seeds)), 958+260, adopter_history[0][-1]"
   ]
  },
  {
   "cell_type": "code",
   "execution_count": 63,
   "metadata": {},
   "outputs": [
    {
     "data": {
      "text/plain": [
       "1218"
      ]
     },
     "execution_count": 63,
     "metadata": {},
     "output_type": "execute_result"
    }
   ],
   "source": [
    "#updating belief dictionary\n",
    "for k in G_update.nodes():\n",
    "    belief_dict[k] = G_update.node[k]['belief']\n",
    "len([k for k in belief_dict.keys() if belief_dict[k] >= t])"
   ]
  },
  {
   "cell_type": "code",
   "execution_count": null,
   "metadata": {},
   "outputs": [],
   "source": [
    "5466+106, 5466+263, 263-106"
   ]
  },
  {
   "cell_type": "code",
   "execution_count": null,
   "metadata": {},
   "outputs": [],
   "source": [
    "def update_belief(G, G_update):\n",
    "    \"\"\"\n",
    "    use G_update to update G's belief\n",
    "    \"\"\"\n",
    "    for node in G.nodes():\n",
    "        G.node[node]['belief'] = G_update.node[node]['belief']\n",
    "        G.node[node]['status'] = G_update.node[node]['status']\n",
    "    return G"
   ]
  },
  {
   "cell_type": "code",
   "execution_count": null,
   "metadata": {},
   "outputs": [],
   "source": [
    "movie_counter = 0\n",
    "for year, df in grouped_by_year:\n",
    "    movie_counter += len(df)\n",
    "print(movie_counter, len(movie_90s))"
   ]
  },
  {
   "cell_type": "markdown",
   "metadata": {},
   "source": [
    "##  check quest run"
   ]
  },
  {
   "cell_type": "markdown",
   "metadata": {},
   "source": [
    "### plot for sir"
   ]
  },
  {
   "cell_type": "code",
   "execution_count": null,
   "metadata": {},
   "outputs": [],
   "source": [
    "\n",
    "color='blueviolet'\n",
    "#plot the figure:\n",
    "fig, ax = plt.subplots(figsize=(5,3))\n",
    "#get the bipartite data:\n",
    "#plot bipartite results\n",
    "ax.plot(mean, label='Multipartite', color=color)\n",
    "ax.fill_between(df_contagion.index, low_ci, high_ci, color=color, alpha=0.2)"
   ]
  },
  {
   "cell_type": "code",
   "execution_count": 200,
   "metadata": {},
   "outputs": [
    {
     "data": {
      "text/html": [
       "<div>\n",
       "<style scoped>\n",
       "    .dataframe tbody tr th:only-of-type {\n",
       "        vertical-align: middle;\n",
       "    }\n",
       "\n",
       "    .dataframe tbody tr th {\n",
       "        vertical-align: top;\n",
       "    }\n",
       "\n",
       "    .dataframe thead th {\n",
       "        text-align: right;\n",
       "    }\n",
       "</style>\n",
       "<table border=\"1\" class=\"dataframe\">\n",
       "  <thead>\n",
       "    <tr style=\"text-align: right;\">\n",
       "      <th></th>\n",
       "      <th>year</th>\n",
       "      <th>0</th>\n",
       "      <th>1</th>\n",
       "      <th>2</th>\n",
       "      <th>3</th>\n",
       "      <th>4</th>\n",
       "      <th>5</th>\n",
       "    </tr>\n",
       "  </thead>\n",
       "  <tbody>\n",
       "    <tr>\n",
       "      <th>0</th>\n",
       "      <td>[1989, 1991]</td>\n",
       "      <td>1064</td>\n",
       "      <td>1064</td>\n",
       "      <td>1064</td>\n",
       "      <td>1064</td>\n",
       "      <td>1064</td>\n",
       "      <td>1064</td>\n",
       "    </tr>\n",
       "    <tr>\n",
       "      <th>1</th>\n",
       "      <td>[1989, 1991]</td>\n",
       "      <td>1066</td>\n",
       "      <td>1065</td>\n",
       "      <td>1065</td>\n",
       "      <td>1064</td>\n",
       "      <td>1065</td>\n",
       "      <td>1067</td>\n",
       "    </tr>\n",
       "    <tr>\n",
       "      <th>2</th>\n",
       "      <td>[1989, 1991]</td>\n",
       "      <td>1068</td>\n",
       "      <td>1068</td>\n",
       "      <td>1067</td>\n",
       "      <td>1065</td>\n",
       "      <td>1068</td>\n",
       "      <td>1070</td>\n",
       "    </tr>\n",
       "    <tr>\n",
       "      <th>3</th>\n",
       "      <td>[1989, 1991]</td>\n",
       "      <td>1069</td>\n",
       "      <td>1069</td>\n",
       "      <td>1067</td>\n",
       "      <td>1067</td>\n",
       "      <td>1068</td>\n",
       "      <td>1072</td>\n",
       "    </tr>\n",
       "    <tr>\n",
       "      <th>4</th>\n",
       "      <td>[1989, 1991]</td>\n",
       "      <td>1071</td>\n",
       "      <td>1071</td>\n",
       "      <td>1070</td>\n",
       "      <td>1068</td>\n",
       "      <td>1070</td>\n",
       "      <td>1074</td>\n",
       "    </tr>\n",
       "    <tr>\n",
       "      <th>5</th>\n",
       "      <td>[1989, 1991]</td>\n",
       "      <td>1073</td>\n",
       "      <td>1073</td>\n",
       "      <td>1070</td>\n",
       "      <td>1073</td>\n",
       "      <td>1072</td>\n",
       "      <td>1076</td>\n",
       "    </tr>\n",
       "    <tr>\n",
       "      <th>6</th>\n",
       "      <td>[1989, 1991]</td>\n",
       "      <td>1074</td>\n",
       "      <td>1073</td>\n",
       "      <td>1071</td>\n",
       "      <td>1076</td>\n",
       "      <td>1074</td>\n",
       "      <td>1078</td>\n",
       "    </tr>\n",
       "    <tr>\n",
       "      <th>7</th>\n",
       "      <td>[1989, 1991]</td>\n",
       "      <td>1076</td>\n",
       "      <td>1076</td>\n",
       "      <td>1073</td>\n",
       "      <td>1078</td>\n",
       "      <td>1075</td>\n",
       "      <td>1079</td>\n",
       "    </tr>\n",
       "    <tr>\n",
       "      <th>8</th>\n",
       "      <td>[1989, 1991]</td>\n",
       "      <td>1077</td>\n",
       "      <td>1076</td>\n",
       "      <td>1076</td>\n",
       "      <td>1080</td>\n",
       "      <td>1076</td>\n",
       "      <td>1081</td>\n",
       "    </tr>\n",
       "    <tr>\n",
       "      <th>9</th>\n",
       "      <td>[1989, 1991]</td>\n",
       "      <td>1078</td>\n",
       "      <td>1079</td>\n",
       "      <td>1077</td>\n",
       "      <td>1081</td>\n",
       "      <td>1077</td>\n",
       "      <td>1083</td>\n",
       "    </tr>\n",
       "    <tr>\n",
       "      <th>10</th>\n",
       "      <td>[1989, 1991]</td>\n",
       "      <td>1078</td>\n",
       "      <td>1082</td>\n",
       "      <td>1078</td>\n",
       "      <td>1081</td>\n",
       "      <td>1077</td>\n",
       "      <td>1087</td>\n",
       "    </tr>\n",
       "    <tr>\n",
       "      <th>11</th>\n",
       "      <td>[1989, 1991]</td>\n",
       "      <td>1079</td>\n",
       "      <td>1083</td>\n",
       "      <td>1080</td>\n",
       "      <td>1082</td>\n",
       "      <td>1080</td>\n",
       "      <td>1088</td>\n",
       "    </tr>\n",
       "    <tr>\n",
       "      <th>12</th>\n",
       "      <td>[1989, 1991]</td>\n",
       "      <td>1079</td>\n",
       "      <td>1084</td>\n",
       "      <td>1082</td>\n",
       "      <td>1084</td>\n",
       "      <td>1080</td>\n",
       "      <td>1090</td>\n",
       "    </tr>\n",
       "    <tr>\n",
       "      <th>13</th>\n",
       "      <td>[1989, 1991]</td>\n",
       "      <td>1080</td>\n",
       "      <td>1086</td>\n",
       "      <td>1085</td>\n",
       "      <td>1084</td>\n",
       "      <td>1085</td>\n",
       "      <td>1093</td>\n",
       "    </tr>\n",
       "    <tr>\n",
       "      <th>14</th>\n",
       "      <td>[1989, 1991]</td>\n",
       "      <td>1080</td>\n",
       "      <td>1086</td>\n",
       "      <td>1089</td>\n",
       "      <td>1085</td>\n",
       "      <td>1086</td>\n",
       "      <td>1093</td>\n",
       "    </tr>\n",
       "    <tr>\n",
       "      <th>15</th>\n",
       "      <td>[1989, 1991]</td>\n",
       "      <td>1080</td>\n",
       "      <td>1086</td>\n",
       "      <td>1090</td>\n",
       "      <td>1087</td>\n",
       "      <td>1086</td>\n",
       "      <td>1094</td>\n",
       "    </tr>\n",
       "    <tr>\n",
       "      <th>16</th>\n",
       "      <td>[1989, 1991]</td>\n",
       "      <td>1080</td>\n",
       "      <td>1087</td>\n",
       "      <td>1092</td>\n",
       "      <td>1087</td>\n",
       "      <td>1088</td>\n",
       "      <td>1096</td>\n",
       "    </tr>\n",
       "    <tr>\n",
       "      <th>17</th>\n",
       "      <td>[1989, 1991]</td>\n",
       "      <td>1082</td>\n",
       "      <td>1088</td>\n",
       "      <td>1096</td>\n",
       "      <td>1088</td>\n",
       "      <td>1091</td>\n",
       "      <td>1097</td>\n",
       "    </tr>\n",
       "    <tr>\n",
       "      <th>18</th>\n",
       "      <td>[1989, 1991]</td>\n",
       "      <td>1082</td>\n",
       "      <td>1091</td>\n",
       "      <td>1100</td>\n",
       "      <td>1090</td>\n",
       "      <td>1093</td>\n",
       "      <td>1097</td>\n",
       "    </tr>\n",
       "    <tr>\n",
       "      <th>19</th>\n",
       "      <td>[1989, 1991]</td>\n",
       "      <td>1084</td>\n",
       "      <td>1093</td>\n",
       "      <td>1101</td>\n",
       "      <td>1092</td>\n",
       "      <td>1094</td>\n",
       "      <td>1097</td>\n",
       "    </tr>\n",
       "    <tr>\n",
       "      <th>20</th>\n",
       "      <td>[1989, 1991]</td>\n",
       "      <td>1087</td>\n",
       "      <td>1095</td>\n",
       "      <td>1104</td>\n",
       "      <td>1094</td>\n",
       "      <td>1094</td>\n",
       "      <td>1100</td>\n",
       "    </tr>\n",
       "    <tr>\n",
       "      <th>21</th>\n",
       "      <td>[1989, 1991]</td>\n",
       "      <td>1089</td>\n",
       "      <td>1096</td>\n",
       "      <td>1105</td>\n",
       "      <td>1094</td>\n",
       "      <td>1094</td>\n",
       "      <td>1102</td>\n",
       "    </tr>\n",
       "    <tr>\n",
       "      <th>22</th>\n",
       "      <td>[1989, 1991]</td>\n",
       "      <td>1091</td>\n",
       "      <td>1098</td>\n",
       "      <td>1107</td>\n",
       "      <td>1097</td>\n",
       "      <td>1095</td>\n",
       "      <td>1103</td>\n",
       "    </tr>\n",
       "    <tr>\n",
       "      <th>23</th>\n",
       "      <td>[1989, 1991]</td>\n",
       "      <td>1093</td>\n",
       "      <td>1100</td>\n",
       "      <td>1109</td>\n",
       "      <td>1097</td>\n",
       "      <td>1096</td>\n",
       "      <td>1105</td>\n",
       "    </tr>\n",
       "    <tr>\n",
       "      <th>24</th>\n",
       "      <td>[1989, 1991]</td>\n",
       "      <td>1094</td>\n",
       "      <td>1102</td>\n",
       "      <td>1111</td>\n",
       "      <td>1099</td>\n",
       "      <td>1096</td>\n",
       "      <td>1107</td>\n",
       "    </tr>\n",
       "    <tr>\n",
       "      <th>25</th>\n",
       "      <td>[1989, 1991]</td>\n",
       "      <td>1098</td>\n",
       "      <td>1102</td>\n",
       "      <td>1112</td>\n",
       "      <td>1101</td>\n",
       "      <td>1097</td>\n",
       "      <td>1108</td>\n",
       "    </tr>\n",
       "    <tr>\n",
       "      <th>26</th>\n",
       "      <td>[1989, 1991]</td>\n",
       "      <td>1100</td>\n",
       "      <td>1103</td>\n",
       "      <td>1113</td>\n",
       "      <td>1103</td>\n",
       "      <td>1097</td>\n",
       "      <td>1111</td>\n",
       "    </tr>\n",
       "    <tr>\n",
       "      <th>27</th>\n",
       "      <td>[1989, 1991]</td>\n",
       "      <td>1102</td>\n",
       "      <td>1103</td>\n",
       "      <td>1113</td>\n",
       "      <td>1103</td>\n",
       "      <td>1099</td>\n",
       "      <td>1113</td>\n",
       "    </tr>\n",
       "    <tr>\n",
       "      <th>28</th>\n",
       "      <td>[1989, 1991]</td>\n",
       "      <td>1104</td>\n",
       "      <td>1105</td>\n",
       "      <td>1113</td>\n",
       "      <td>1103</td>\n",
       "      <td>1099</td>\n",
       "      <td>1113</td>\n",
       "    </tr>\n",
       "    <tr>\n",
       "      <th>29</th>\n",
       "      <td>[1989, 1991]</td>\n",
       "      <td>1107</td>\n",
       "      <td>1107</td>\n",
       "      <td>1114</td>\n",
       "      <td>1103</td>\n",
       "      <td>1102</td>\n",
       "      <td>1115</td>\n",
       "    </tr>\n",
       "    <tr>\n",
       "      <th>...</th>\n",
       "      <td>...</td>\n",
       "      <td>...</td>\n",
       "      <td>...</td>\n",
       "      <td>...</td>\n",
       "      <td>...</td>\n",
       "      <td>...</td>\n",
       "      <td>...</td>\n",
       "    </tr>\n",
       "    <tr>\n",
       "      <th>1980</th>\n",
       "      <td>[1997, 1999]</td>\n",
       "      <td>2747</td>\n",
       "      <td>2778</td>\n",
       "      <td>2724</td>\n",
       "      <td>2709</td>\n",
       "      <td>2710</td>\n",
       "      <td>2682</td>\n",
       "    </tr>\n",
       "    <tr>\n",
       "      <th>1981</th>\n",
       "      <td>[1997, 1999]</td>\n",
       "      <td>2747</td>\n",
       "      <td>2778</td>\n",
       "      <td>2727</td>\n",
       "      <td>2709</td>\n",
       "      <td>2710</td>\n",
       "      <td>2682</td>\n",
       "    </tr>\n",
       "    <tr>\n",
       "      <th>1982</th>\n",
       "      <td>[1997, 1999]</td>\n",
       "      <td>2748</td>\n",
       "      <td>2779</td>\n",
       "      <td>2728</td>\n",
       "      <td>2709</td>\n",
       "      <td>2712</td>\n",
       "      <td>2682</td>\n",
       "    </tr>\n",
       "    <tr>\n",
       "      <th>1983</th>\n",
       "      <td>[1997, 1999]</td>\n",
       "      <td>2748</td>\n",
       "      <td>2779</td>\n",
       "      <td>2729</td>\n",
       "      <td>2709</td>\n",
       "      <td>2713</td>\n",
       "      <td>2682</td>\n",
       "    </tr>\n",
       "    <tr>\n",
       "      <th>1984</th>\n",
       "      <td>[1997, 1999]</td>\n",
       "      <td>2749</td>\n",
       "      <td>2779</td>\n",
       "      <td>2733</td>\n",
       "      <td>2709</td>\n",
       "      <td>2715</td>\n",
       "      <td>2683</td>\n",
       "    </tr>\n",
       "    <tr>\n",
       "      <th>1985</th>\n",
       "      <td>[1997, 1999]</td>\n",
       "      <td>2749</td>\n",
       "      <td>2779</td>\n",
       "      <td>2734</td>\n",
       "      <td>2711</td>\n",
       "      <td>2715</td>\n",
       "      <td>2683</td>\n",
       "    </tr>\n",
       "    <tr>\n",
       "      <th>1986</th>\n",
       "      <td>[1997, 1999]</td>\n",
       "      <td>2749</td>\n",
       "      <td>2779</td>\n",
       "      <td>2736</td>\n",
       "      <td>2711</td>\n",
       "      <td>2715</td>\n",
       "      <td>2683</td>\n",
       "    </tr>\n",
       "    <tr>\n",
       "      <th>1987</th>\n",
       "      <td>[1997, 1999]</td>\n",
       "      <td>2749</td>\n",
       "      <td>2779</td>\n",
       "      <td>2736</td>\n",
       "      <td>2711</td>\n",
       "      <td>2715</td>\n",
       "      <td>2684</td>\n",
       "    </tr>\n",
       "    <tr>\n",
       "      <th>1988</th>\n",
       "      <td>[1997, 1999]</td>\n",
       "      <td>2749</td>\n",
       "      <td>2780</td>\n",
       "      <td>2738</td>\n",
       "      <td>2712</td>\n",
       "      <td>2716</td>\n",
       "      <td>2684</td>\n",
       "    </tr>\n",
       "    <tr>\n",
       "      <th>1989</th>\n",
       "      <td>[1997, 1999]</td>\n",
       "      <td>2749</td>\n",
       "      <td>2780</td>\n",
       "      <td>2738</td>\n",
       "      <td>2712</td>\n",
       "      <td>2716</td>\n",
       "      <td>2686</td>\n",
       "    </tr>\n",
       "    <tr>\n",
       "      <th>1990</th>\n",
       "      <td>[1997, 1999]</td>\n",
       "      <td>2749</td>\n",
       "      <td>2782</td>\n",
       "      <td>2738</td>\n",
       "      <td>2712</td>\n",
       "      <td>2716</td>\n",
       "      <td>2686</td>\n",
       "    </tr>\n",
       "    <tr>\n",
       "      <th>1991</th>\n",
       "      <td>[1997, 1999]</td>\n",
       "      <td>2749</td>\n",
       "      <td>2782</td>\n",
       "      <td>2738</td>\n",
       "      <td>2713</td>\n",
       "      <td>2716</td>\n",
       "      <td>2686</td>\n",
       "    </tr>\n",
       "    <tr>\n",
       "      <th>1992</th>\n",
       "      <td>[1997, 1999]</td>\n",
       "      <td>2749</td>\n",
       "      <td>2782</td>\n",
       "      <td>2738</td>\n",
       "      <td>2713</td>\n",
       "      <td>2716</td>\n",
       "      <td>2686</td>\n",
       "    </tr>\n",
       "    <tr>\n",
       "      <th>1993</th>\n",
       "      <td>[1997, 1999]</td>\n",
       "      <td>2749</td>\n",
       "      <td>2782</td>\n",
       "      <td>2738</td>\n",
       "      <td>2713</td>\n",
       "      <td>2717</td>\n",
       "      <td>2686</td>\n",
       "    </tr>\n",
       "    <tr>\n",
       "      <th>1994</th>\n",
       "      <td>[1997, 1999]</td>\n",
       "      <td>2749</td>\n",
       "      <td>2782</td>\n",
       "      <td>2740</td>\n",
       "      <td>2713</td>\n",
       "      <td>2717</td>\n",
       "      <td>2689</td>\n",
       "    </tr>\n",
       "    <tr>\n",
       "      <th>1995</th>\n",
       "      <td>[1997, 1999]</td>\n",
       "      <td>2749</td>\n",
       "      <td>2784</td>\n",
       "      <td>2740</td>\n",
       "      <td>2714</td>\n",
       "      <td>2719</td>\n",
       "      <td>2689</td>\n",
       "    </tr>\n",
       "    <tr>\n",
       "      <th>1996</th>\n",
       "      <td>[1997, 1999]</td>\n",
       "      <td>2752</td>\n",
       "      <td>2785</td>\n",
       "      <td>2742</td>\n",
       "      <td>2714</td>\n",
       "      <td>2719</td>\n",
       "      <td>2689</td>\n",
       "    </tr>\n",
       "    <tr>\n",
       "      <th>1997</th>\n",
       "      <td>[1997, 1999]</td>\n",
       "      <td>2752</td>\n",
       "      <td>2787</td>\n",
       "      <td>2743</td>\n",
       "      <td>2715</td>\n",
       "      <td>2719</td>\n",
       "      <td>2689</td>\n",
       "    </tr>\n",
       "    <tr>\n",
       "      <th>1998</th>\n",
       "      <td>[1997, 1999]</td>\n",
       "      <td>2753</td>\n",
       "      <td>2788</td>\n",
       "      <td>2745</td>\n",
       "      <td>2715</td>\n",
       "      <td>2721</td>\n",
       "      <td>2690</td>\n",
       "    </tr>\n",
       "    <tr>\n",
       "      <th>1999</th>\n",
       "      <td>[1997, 1999]</td>\n",
       "      <td>2757</td>\n",
       "      <td>2788</td>\n",
       "      <td>2747</td>\n",
       "      <td>2715</td>\n",
       "      <td>2721</td>\n",
       "      <td>2690</td>\n",
       "    </tr>\n",
       "    <tr>\n",
       "      <th>2000</th>\n",
       "      <td>[1997, 1999]</td>\n",
       "      <td>2757</td>\n",
       "      <td>2788</td>\n",
       "      <td>2747</td>\n",
       "      <td>2718</td>\n",
       "      <td>2721</td>\n",
       "      <td>2690</td>\n",
       "    </tr>\n",
       "    <tr>\n",
       "      <th>2001</th>\n",
       "      <td>[1997, 1999]</td>\n",
       "      <td>2757</td>\n",
       "      <td>2788</td>\n",
       "      <td>2749</td>\n",
       "      <td>2720</td>\n",
       "      <td>2721</td>\n",
       "      <td>2692</td>\n",
       "    </tr>\n",
       "    <tr>\n",
       "      <th>2002</th>\n",
       "      <td>[1997, 1999]</td>\n",
       "      <td>2757</td>\n",
       "      <td>2789</td>\n",
       "      <td>2749</td>\n",
       "      <td>2720</td>\n",
       "      <td>2723</td>\n",
       "      <td>2692</td>\n",
       "    </tr>\n",
       "    <tr>\n",
       "      <th>2003</th>\n",
       "      <td>[1997, 1999]</td>\n",
       "      <td>2757</td>\n",
       "      <td>2789</td>\n",
       "      <td>2750</td>\n",
       "      <td>2720</td>\n",
       "      <td>2723</td>\n",
       "      <td>2692</td>\n",
       "    </tr>\n",
       "    <tr>\n",
       "      <th>2004</th>\n",
       "      <td>[1997, 1999]</td>\n",
       "      <td>2758</td>\n",
       "      <td>2789</td>\n",
       "      <td>2750</td>\n",
       "      <td>2720</td>\n",
       "      <td>2723</td>\n",
       "      <td>2692</td>\n",
       "    </tr>\n",
       "    <tr>\n",
       "      <th>2005</th>\n",
       "      <td>[1997, 1999]</td>\n",
       "      <td>2758</td>\n",
       "      <td>2789</td>\n",
       "      <td>2750</td>\n",
       "      <td>2720</td>\n",
       "      <td>2724</td>\n",
       "      <td>2692</td>\n",
       "    </tr>\n",
       "    <tr>\n",
       "      <th>2006</th>\n",
       "      <td>[1997, 1999]</td>\n",
       "      <td>2758</td>\n",
       "      <td>2789</td>\n",
       "      <td>2750</td>\n",
       "      <td>2721</td>\n",
       "      <td>2725</td>\n",
       "      <td>2693</td>\n",
       "    </tr>\n",
       "    <tr>\n",
       "      <th>2007</th>\n",
       "      <td>[1997, 1999]</td>\n",
       "      <td>2758</td>\n",
       "      <td>2790</td>\n",
       "      <td>2750</td>\n",
       "      <td>2721</td>\n",
       "      <td>2726</td>\n",
       "      <td>2693</td>\n",
       "    </tr>\n",
       "    <tr>\n",
       "      <th>2008</th>\n",
       "      <td>[1997, 1999]</td>\n",
       "      <td>2759</td>\n",
       "      <td>2790</td>\n",
       "      <td>2750</td>\n",
       "      <td>2721</td>\n",
       "      <td>2726</td>\n",
       "      <td>2693</td>\n",
       "    </tr>\n",
       "    <tr>\n",
       "      <th>2009</th>\n",
       "      <td>[1997, 1999]</td>\n",
       "      <td>2759</td>\n",
       "      <td>2790</td>\n",
       "      <td>2750</td>\n",
       "      <td>2721</td>\n",
       "      <td>2728</td>\n",
       "      <td>2693</td>\n",
       "    </tr>\n",
       "  </tbody>\n",
       "</table>\n",
       "<p>2010 rows × 7 columns</p>\n",
       "</div>"
      ],
      "text/plain": [
       "              year     0     1     2     3     4     5\n",
       "0     [1989, 1991]  1064  1064  1064  1064  1064  1064\n",
       "1     [1989, 1991]  1066  1065  1065  1064  1065  1067\n",
       "2     [1989, 1991]  1068  1068  1067  1065  1068  1070\n",
       "3     [1989, 1991]  1069  1069  1067  1067  1068  1072\n",
       "4     [1989, 1991]  1071  1071  1070  1068  1070  1074\n",
       "5     [1989, 1991]  1073  1073  1070  1073  1072  1076\n",
       "6     [1989, 1991]  1074  1073  1071  1076  1074  1078\n",
       "7     [1989, 1991]  1076  1076  1073  1078  1075  1079\n",
       "8     [1989, 1991]  1077  1076  1076  1080  1076  1081\n",
       "9     [1989, 1991]  1078  1079  1077  1081  1077  1083\n",
       "10    [1989, 1991]  1078  1082  1078  1081  1077  1087\n",
       "11    [1989, 1991]  1079  1083  1080  1082  1080  1088\n",
       "12    [1989, 1991]  1079  1084  1082  1084  1080  1090\n",
       "13    [1989, 1991]  1080  1086  1085  1084  1085  1093\n",
       "14    [1989, 1991]  1080  1086  1089  1085  1086  1093\n",
       "15    [1989, 1991]  1080  1086  1090  1087  1086  1094\n",
       "16    [1989, 1991]  1080  1087  1092  1087  1088  1096\n",
       "17    [1989, 1991]  1082  1088  1096  1088  1091  1097\n",
       "18    [1989, 1991]  1082  1091  1100  1090  1093  1097\n",
       "19    [1989, 1991]  1084  1093  1101  1092  1094  1097\n",
       "20    [1989, 1991]  1087  1095  1104  1094  1094  1100\n",
       "21    [1989, 1991]  1089  1096  1105  1094  1094  1102\n",
       "22    [1989, 1991]  1091  1098  1107  1097  1095  1103\n",
       "23    [1989, 1991]  1093  1100  1109  1097  1096  1105\n",
       "24    [1989, 1991]  1094  1102  1111  1099  1096  1107\n",
       "25    [1989, 1991]  1098  1102  1112  1101  1097  1108\n",
       "26    [1989, 1991]  1100  1103  1113  1103  1097  1111\n",
       "27    [1989, 1991]  1102  1103  1113  1103  1099  1113\n",
       "28    [1989, 1991]  1104  1105  1113  1103  1099  1113\n",
       "29    [1989, 1991]  1107  1107  1114  1103  1102  1115\n",
       "...            ...   ...   ...   ...   ...   ...   ...\n",
       "1980  [1997, 1999]  2747  2778  2724  2709  2710  2682\n",
       "1981  [1997, 1999]  2747  2778  2727  2709  2710  2682\n",
       "1982  [1997, 1999]  2748  2779  2728  2709  2712  2682\n",
       "1983  [1997, 1999]  2748  2779  2729  2709  2713  2682\n",
       "1984  [1997, 1999]  2749  2779  2733  2709  2715  2683\n",
       "1985  [1997, 1999]  2749  2779  2734  2711  2715  2683\n",
       "1986  [1997, 1999]  2749  2779  2736  2711  2715  2683\n",
       "1987  [1997, 1999]  2749  2779  2736  2711  2715  2684\n",
       "1988  [1997, 1999]  2749  2780  2738  2712  2716  2684\n",
       "1989  [1997, 1999]  2749  2780  2738  2712  2716  2686\n",
       "1990  [1997, 1999]  2749  2782  2738  2712  2716  2686\n",
       "1991  [1997, 1999]  2749  2782  2738  2713  2716  2686\n",
       "1992  [1997, 1999]  2749  2782  2738  2713  2716  2686\n",
       "1993  [1997, 1999]  2749  2782  2738  2713  2717  2686\n",
       "1994  [1997, 1999]  2749  2782  2740  2713  2717  2689\n",
       "1995  [1997, 1999]  2749  2784  2740  2714  2719  2689\n",
       "1996  [1997, 1999]  2752  2785  2742  2714  2719  2689\n",
       "1997  [1997, 1999]  2752  2787  2743  2715  2719  2689\n",
       "1998  [1997, 1999]  2753  2788  2745  2715  2721  2690\n",
       "1999  [1997, 1999]  2757  2788  2747  2715  2721  2690\n",
       "2000  [1997, 1999]  2757  2788  2747  2718  2721  2690\n",
       "2001  [1997, 1999]  2757  2788  2749  2720  2721  2692\n",
       "2002  [1997, 1999]  2757  2789  2749  2720  2723  2692\n",
       "2003  [1997, 1999]  2757  2789  2750  2720  2723  2692\n",
       "2004  [1997, 1999]  2758  2789  2750  2720  2723  2692\n",
       "2005  [1997, 1999]  2758  2789  2750  2720  2724  2692\n",
       "2006  [1997, 1999]  2758  2789  2750  2721  2725  2693\n",
       "2007  [1997, 1999]  2758  2790  2750  2721  2726  2693\n",
       "2008  [1997, 1999]  2759  2790  2750  2721  2726  2693\n",
       "2009  [1997, 1999]  2759  2790  2750  2721  2728  2693\n",
       "\n",
       "[2010 rows x 7 columns]"
      ]
     },
     "execution_count": 200,
     "metadata": {},
     "output_type": "execute_result"
    }
   ],
   "source": [
    "pd.read_json('/home/staff/junelee/Desktop/contagion_agg_2_p10_d100_t100_ver_20.json', orient='split')"
   ]
  },
  {
   "cell_type": "code",
   "execution_count": null,
   "metadata": {},
   "outputs": [],
   "source": []
  }
 ],
 "metadata": {
  "kernelspec": {
   "display_name": "Python 3",
   "language": "python",
   "name": "python3"
  },
  "language_info": {
   "codemirror_mode": {
    "name": "ipython",
    "version": 3
   },
   "file_extension": ".py",
   "mimetype": "text/x-python",
   "name": "python",
   "nbconvert_exporter": "python",
   "pygments_lexer": "ipython3",
   "version": "3.6.5"
  }
 },
 "nbformat": 4,
 "nbformat_minor": 2
}
