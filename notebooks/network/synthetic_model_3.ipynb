{
 "cells": [
  {
   "cell_type": "markdown",
   "metadata": {},
   "source": [
    "# Add model 3, which is keeping the number of producers and also the number of  movies|"
   ]
  },
  {
   "cell_type": "code",
   "execution_count": 1,
   "metadata": {},
   "outputs": [],
   "source": [
    "import json\n",
    "import os\n",
    "import sys\n",
    "import argparse\n",
    "from collections import Counter, defaultdict\n",
    "from random import shuffle\n",
    "import numpy as np\n",
    "import pandas as pd\n",
    "import matplotlib.pyplot as plt\n",
    "from scipy.optimize import curve_fit\n",
    "from scipy.special import factorial\n",
    "from scipy import stats\n",
    "from matplotlib import cm\n",
    "from matplotlib.colors import LinearSegmentedColormap\n",
    "from scipy.stats import ks_2samp\n",
    "from operator import itemgetter\n",
    "\n",
    "src_dir = os.path.abspath(os.path.join(os.pardir, os.pardir,'src'))\n",
    "sys.path[0] = src_dir\n",
    "from parser.support import ROLES, CREDITS\n",
    "from parser.my_mongo_db_login import DB_LOGIN_INFO\n",
    "import parser.support as support\n",
    "import network.shift_graph_maker as sgm\n",
    "import generator.network_generator as net_gen"
   ]
  },
  {
   "cell_type": "code",
   "execution_count": 2,
   "metadata": {},
   "outputs": [],
   "source": [
    "%load_ext autoreload\n",
    "%autoreload 2\n",
    "%matplotlib inline"
   ]
  },
  {
   "cell_type": "markdown",
   "metadata": {},
   "source": [
    "## Reading data"
   ]
  },
  {
   "cell_type": "code",
   "execution_count": 3,
   "metadata": {},
   "outputs": [
    {
     "name": "stdout",
     "output_type": "stream",
     "text": [
      "Loaded IMDb movies producing_gender_percentage\n",
      "Got all_movies\n"
     ]
    }
   ],
   "source": [
    "movie_producer_df = net_gen.open_movie_data()"
   ]
  },
  {
   "cell_type": "markdown",
   "metadata": {},
   "source": [
    "# Building synthetic networks"
   ]
  },
  {
   "cell_type": "markdown",
   "metadata": {},
   "source": [
    "\n",
    "* fixed values\n",
    "    * number of movies per year\n",
    "    * number of producers per year\n",
    "\n",
    "* variables\n",
    "    * number of people per team - producer_num_list *\n",
    "    * number of movies per producer - occurence_list *\n",
    "    * size of gaps - gap_list\n"
   ]
  },
  {
   "cell_type": "code",
   "execution_count": 4,
   "metadata": {},
   "outputs": [],
   "source": [
    "unlistyfied_producer_df = net_gen.unlistify(movie_producer_df, 'producers')"
   ]
  },
  {
   "cell_type": "code",
   "execution_count": 5,
   "metadata": {},
   "outputs": [],
   "source": [
    "#number of movies per producer of the 90s\n",
    "unlistyfied_producer_df['producer_id'] = unlistyfied_producer_df.producers.apply(lambda x: x[0])"
   ]
  },
  {
   "cell_type": "code",
   "execution_count": 6,
   "metadata": {},
   "outputs": [],
   "source": [
    "movies_per_producer = unlistyfied_producer_df.groupby('producer_id').count()['_id']"
   ]
  },
  {
   "cell_type": "markdown",
   "metadata": {},
   "source": [
    "# Model 3\n",
    "\n",
    "fixed number of movies, fixed number of producers\n",
    "given number of movies per producer\n",
    "given size of gaps per producer/movie"
   ]
  },
  {
   "cell_type": "markdown",
   "metadata": {},
   "source": [
    "## Model 3- 0\n",
    "\n",
    "fixed number of movies, fixed number of producers\n",
    "\n",
    "team size round down/up of the mean"
   ]
  },
  {
   "cell_type": "code",
   "execution_count": 7,
   "metadata": {},
   "outputs": [],
   "source": [
    "movie_list = net_gen.bootstrap(movies_per_producer, len(movies_per_producer))"
   ]
  },
  {
   "cell_type": "code",
   "execution_count": 8,
   "metadata": {},
   "outputs": [],
   "source": [
    "total_num_producers = len(list(set([i[0] for i in unlistyfied_producer_df.producers.tolist()])))"
   ]
  },
  {
   "cell_type": "markdown",
   "metadata": {},
   "source": [
    "## Assign genders"
   ]
  },
  {
   "cell_type": "code",
   "execution_count": 9,
   "metadata": {},
   "outputs": [],
   "source": [
    "gender_df = support.get_staff_df('producers')[['_id', 'female_count', 'first_movie', 'last_movie', 'gender']]"
   ]
  },
  {
   "cell_type": "code",
   "execution_count": 10,
   "metadata": {},
   "outputs": [],
   "source": [
    "females = sgm.generate_gender_seeds(gender_df)"
   ]
  },
  {
   "cell_type": "code",
   "execution_count": 11,
   "metadata": {},
   "outputs": [
    {
     "data": {
      "text/plain": [
       "1064"
      ]
     },
     "execution_count": 11,
     "metadata": {},
     "output_type": "execute_result"
    }
   ],
   "source": [
    "original_producer_list = [i[0] for sublist in movie_producer_df.producers.tolist() for i in sublist]\n",
    "seeds = [i for i in females if i in original_producer_list]\n",
    "len(seeds)"
   ]
  },
  {
   "cell_type": "code",
   "execution_count": 12,
   "metadata": {},
   "outputs": [],
   "source": [
    "gender_df = support.get_staff_df('producers')[['_id', 'female_count', 'first_movie', 'last_movie', 'gender']]"
   ]
  },
  {
   "cell_type": "code",
   "execution_count": 13,
   "metadata": {},
   "outputs": [],
   "source": [
    "unlistyfied_producer_df['gender'] = unlistyfied_producer_df.apply(net_gen.assign_gender, args=(gender_df,), axis=1)"
   ]
  },
  {
   "cell_type": "code",
   "execution_count": 14,
   "metadata": {
    "scrolled": true
   },
   "outputs": [],
   "source": [
    "movie_per_producer_gender = {}\n",
    "for g, g_df in unlistyfied_producer_df.groupby('gender'):\n",
    "    movies_per_producer = g_df.groupby('producer_id').count()['_id'].tolist()\n",
    "    movie_per_producer_gender[g] = movies_per_producer"
   ]
  },
  {
   "cell_type": "code",
   "execution_count": 15,
   "metadata": {},
   "outputs": [
    {
     "name": "stdout",
     "output_type": "stream",
     "text": [
      "24\n",
      "nm0004976\n",
      "[0. 1. 2.]\n",
      "[0.65217391 0.30434783 0.04347826]\n",
      "43\n",
      "nm0005544\n",
      "[3. 0. 1.]\n",
      "[0.02380952 0.83333333 0.14285714]\n",
      "23\n",
      "nm0083696\n",
      "[1. 0.]\n",
      "[0.27272727 0.72727273]\n",
      "22\n",
      "nm0181202\n",
      "[0. 1. 2. 3.]\n",
      "[0.71428571 0.19047619 0.04761905 0.04761905]\n",
      "24\n",
      "nm0276059\n",
      "[0. 1. 2.]\n",
      "[0.65217391 0.30434783 0.04347826]\n",
      "34\n",
      "nm0586969\n",
      "[0. 1.]\n",
      "[0.75757576 0.24242424]\n",
      "21\n",
      "nm0732708\n",
      "[0. 1. 2.]\n",
      "[0.65 0.3  0.05]\n",
      "21\n",
      "nm0797451\n",
      "[0. 2. 1.]\n",
      "[0.6  0.05 0.35]\n",
      "43\n",
      "nm0918424\n",
      "[3. 0. 1.]\n",
      "[0.02380952 0.83333333 0.14285714]\n"
     ]
    }
   ],
   "source": [
    "movies = []\n",
    "for p, group in unlistyfied_producer_df.groupby('producer_id'):\n",
    "    group_sorted = group.sort_values('year')\n",
    "    diff = group_sorted.year.diff().values\n",
    "    if len(group_sorted) > 20:\n",
    "        print(len(group_sorted))\n",
    "        print(p)\n",
    "#         print(group_sorted.year.tolist())\n",
    "        diff_ratio = Counter(diff[~np.isnan(diff)])\n",
    "        diffs, occur = zip(*diff_ratio.items())\n",
    "        diffs = np.array(diffs)\n",
    "        occur = np.array(occur)\n",
    "        print(diffs)\n",
    "        print(occur/sum(occur))\n",
    "        movies.append(group_sorted.producers.tolist())"
   ]
  },
  {
   "cell_type": "code",
   "execution_count": 16,
   "metadata": {},
   "outputs": [],
   "source": [
    "gap_dict = net_gen.get_gaps(unlistyfied_producer_df)"
   ]
  },
  {
   "cell_type": "markdown",
   "metadata": {},
   "source": [
    "###  Generate movies"
   ]
  },
  {
   "cell_type": "code",
   "execution_count": 17,
   "metadata": {},
   "outputs": [],
   "source": [
    "number_of_producers_per_year = {}\n",
    "for year, df in unlistyfied_producer_df.groupby('year'):\n",
    "    producers = list(set([i[0] for i in df.producers.tolist()]))\n",
    "    number_of_producers_per_year[year] = len(producers)"
   ]
  },
  {
   "cell_type": "code",
   "execution_count": 18,
   "metadata": {
    "scrolled": true
   },
   "outputs": [
    {
     "name": "stdout",
     "output_type": "stream",
     "text": [
      "iterate years to produce team numbers\n"
     ]
    },
    {
     "name": "stderr",
     "output_type": "stream",
     "text": [
      "/home/staff/junelee/miniconda3/envs/movie_network/lib/python3.6/site-packages/ipykernel_launcher.py:15: SettingWithCopyWarning: \n",
      "A value is trying to be set on a copy of a slice from a DataFrame.\n",
      "Try using .loc[row_indexer,col_indexer] = value instead\n",
      "\n",
      "See the caveats in the documentation: http://pandas.pydata.org/pandas-docs/stable/indexing.html#indexing-view-versus-copy\n",
      "  from ipykernel import kernelapp as app\n",
      "/home/staff/junelee/miniconda3/envs/movie_network/lib/python3.6/site-packages/ipykernel_launcher.py:15: SettingWithCopyWarning: \n",
      "A value is trying to be set on a copy of a slice from a DataFrame.\n",
      "Try using .loc[row_indexer,col_indexer] = value instead\n",
      "\n",
      "See the caveats in the documentation: http://pandas.pydata.org/pandas-docs/stable/indexing.html#indexing-view-versus-copy\n",
      "  from ipykernel import kernelapp as app\n",
      "/home/staff/junelee/miniconda3/envs/movie_network/lib/python3.6/site-packages/ipykernel_launcher.py:15: SettingWithCopyWarning: \n",
      "A value is trying to be set on a copy of a slice from a DataFrame.\n",
      "Try using .loc[row_indexer,col_indexer] = value instead\n",
      "\n",
      "See the caveats in the documentation: http://pandas.pydata.org/pandas-docs/stable/indexing.html#indexing-view-versus-copy\n",
      "  from ipykernel import kernelapp as app\n",
      "/home/staff/junelee/miniconda3/envs/movie_network/lib/python3.6/site-packages/ipykernel_launcher.py:15: SettingWithCopyWarning: \n",
      "A value is trying to be set on a copy of a slice from a DataFrame.\n",
      "Try using .loc[row_indexer,col_indexer] = value instead\n",
      "\n",
      "See the caveats in the documentation: http://pandas.pydata.org/pandas-docs/stable/indexing.html#indexing-view-versus-copy\n",
      "  from ipykernel import kernelapp as app\n",
      "/home/staff/junelee/miniconda3/envs/movie_network/lib/python3.6/site-packages/ipykernel_launcher.py:15: SettingWithCopyWarning: \n",
      "A value is trying to be set on a copy of a slice from a DataFrame.\n",
      "Try using .loc[row_indexer,col_indexer] = value instead\n",
      "\n",
      "See the caveats in the documentation: http://pandas.pydata.org/pandas-docs/stable/indexing.html#indexing-view-versus-copy\n",
      "  from ipykernel import kernelapp as app\n",
      "/home/staff/junelee/miniconda3/envs/movie_network/lib/python3.6/site-packages/ipykernel_launcher.py:15: SettingWithCopyWarning: \n",
      "A value is trying to be set on a copy of a slice from a DataFrame.\n",
      "Try using .loc[row_indexer,col_indexer] = value instead\n",
      "\n",
      "See the caveats in the documentation: http://pandas.pydata.org/pandas-docs/stable/indexing.html#indexing-view-versus-copy\n",
      "  from ipykernel import kernelapp as app\n"
     ]
    },
    {
     "name": "stdout",
     "output_type": "stream",
     "text": [
      "generate movies\n"
     ]
    },
    {
     "name": "stderr",
     "output_type": "stream",
     "text": [
      "/home/staff/junelee/miniconda3/envs/movie_network/lib/python3.6/site-packages/ipykernel_launcher.py:15: SettingWithCopyWarning: \n",
      "A value is trying to be set on a copy of a slice from a DataFrame.\n",
      "Try using .loc[row_indexer,col_indexer] = value instead\n",
      "\n",
      "See the caveats in the documentation: http://pandas.pydata.org/pandas-docs/stable/indexing.html#indexing-view-versus-copy\n",
      "  from ipykernel import kernelapp as app\n",
      "/home/staff/junelee/miniconda3/envs/movie_network/lib/python3.6/site-packages/ipykernel_launcher.py:15: SettingWithCopyWarning: \n",
      "A value is trying to be set on a copy of a slice from a DataFrame.\n",
      "Try using .loc[row_indexer,col_indexer] = value instead\n",
      "\n",
      "See the caveats in the documentation: http://pandas.pydata.org/pandas-docs/stable/indexing.html#indexing-view-versus-copy\n",
      "  from ipykernel import kernelapp as app\n",
      "/home/staff/junelee/miniconda3/envs/movie_network/lib/python3.6/site-packages/ipykernel_launcher.py:15: SettingWithCopyWarning: \n",
      "A value is trying to be set on a copy of a slice from a DataFrame.\n",
      "Try using .loc[row_indexer,col_indexer] = value instead\n",
      "\n",
      "See the caveats in the documentation: http://pandas.pydata.org/pandas-docs/stable/indexing.html#indexing-view-versus-copy\n",
      "  from ipykernel import kernelapp as app\n",
      "/home/staff/junelee/miniconda3/envs/movie_network/lib/python3.6/site-packages/ipykernel_launcher.py:15: SettingWithCopyWarning: \n",
      "A value is trying to be set on a copy of a slice from a DataFrame.\n",
      "Try using .loc[row_indexer,col_indexer] = value instead\n",
      "\n",
      "See the caveats in the documentation: http://pandas.pydata.org/pandas-docs/stable/indexing.html#indexing-view-versus-copy\n",
      "  from ipykernel import kernelapp as app\n"
     ]
    }
   ],
   "source": [
    "#generate new producers every round\n",
    "generated_producers = net_gen.generate_producers(total_num_producers)\n",
    "generated_producers_dict = {}\n",
    "generated_producers_dict['female'] = generated_producers[:len(seeds)]\n",
    "generated_producers_dict['male'] = generated_producers[len(seeds):]\n",
    "total_movie_frame = movie_producer_df[['_id', 'producers', 'year', 'producer_num']].copy(deep=True)\n",
    "\n",
    "print('iterate years to produce team numbers')\n",
    "for year, df in total_movie_frame.groupby('year'):\n",
    "    num_producers = number_of_producers_per_year[year] #duplicate producers are already dropped\n",
    "    mean_size = np.mean(df.producer_num.tolist())\n",
    "    mean_ceil = np.ceil(mean_size)\n",
    "    mean_floor = np.floor(mean_size)\n",
    "    #fix the team size to its mean\n",
    "    df['producer_num'] = df.producer_num.apply(net_gen.team_size, args=(mean_ceil, mean_floor))\n",
    "    total_movie_frame['producer_num'].update(df.producer_num)\n",
    "total_movie_frame['producers'] = [[]]*len(total_movie_frame)\n",
    "print('generate movies')\n",
    "total_num_teams = total_movie_frame.producer_num.sum()"
   ]
  },
  {
   "cell_type": "code",
   "execution_count": 19,
   "metadata": {},
   "outputs": [],
   "source": [
    "# generate movies\n",
    "movie_dict = net_gen.generate_movie_num(total_num_teams, generated_producers_dict, movie_per_producer_gender)"
   ]
  },
  {
   "cell_type": "code",
   "execution_count": 20,
   "metadata": {},
   "outputs": [],
   "source": [
    "# assign gaps by gender\n",
    "movie_dict_per_producer, gap_dict_per_producer = net_gen.assign_gaps(movie_dict, gap_dict)"
   ]
  },
  {
   "cell_type": "code",
   "execution_count": 31,
   "metadata": {},
   "outputs": [],
   "source": [
    "# distribute movies\n",
    "df = total_movie_frame.copy()\n",
    "\n",
    "sorted_gap_dict_per_producer = sorted(gap_dict_per_producer.items(), key=lambda kv: (sum(kv[1]), len(kv[1])), reverse=True)\n",
    "producers = [p[0] for p in sorted_gap_dict_per_producer]\n",
    "\n",
    "for p in producers:\n",
    "    gaps = gap_dict_per_producer[p]\n",
    "    shuffle(gaps)\n",
    "    first_movie = find_first_available_movie(total_movie_frame)\n",
    "    available_movies = find_unfilled_movies(total_movie_frame)\n",
    "    # when is the producer's first active year\n",
    "    start_year = df[df._id == first_movie].year.values[0]\n",
    "    # find the years that the producer made movie\n",
    "    working_years = calculate_years(start_year, gaps)\n",
    "    break"
   ]
  },
  {
   "cell_type": "code",
   "execution_count": 32,
   "metadata": {},
   "outputs": [
    {
     "data": {
      "text/plain": [
       "1990"
      ]
     },
     "execution_count": 32,
     "metadata": {},
     "output_type": "execute_result"
    }
   ],
   "source": [
    "start_year"
   ]
  },
  {
   "cell_type": "code",
   "execution_count": 33,
   "metadata": {},
   "outputs": [],
   "source": [
    "def find_first_available_movie(df):\n",
    "    df['availability'] = df.producers.apply(lambda x: len(x))\n",
    "    df_available = df[df.availability < df.producer_num]\n",
    "    available_movie = df_available.iloc[0]._id\n",
    "    return available_movie"
   ]
  },
  {
   "cell_type": "code",
   "execution_count": 34,
   "metadata": {},
   "outputs": [],
   "source": [
    "def calculate_years(start_year, gaps):\n",
    "    \"\"\"\n",
    "    producers active year\n",
    "    \"\"\"\n",
    "    years = [start_year]\n",
    "    for g in gaps:\n",
    "        years.append(years[-1]+g)\n",
    "    return years"
   ]
  },
  {
   "cell_type": "code",
   "execution_count": 35,
   "metadata": {},
   "outputs": [],
   "source": [
    "def find_unfilled_movies(df):\n",
    "    df['availability'] = df.producers.apply(lambda x: len(x))\n",
    "    df_available = df[df.availability < df.producer_num]\n",
    "    available_movies = df_available.groupby('year')['_id'].apply(list).to_dict()\n",
    "    return available_movies"
   ]
  },
  {
   "cell_type": "code",
   "execution_count": 36,
   "metadata": {},
   "outputs": [],
   "source": [
    "def choose_movies(available_movies, working_years):\n",
    "    \"\"\"\n",
    "    available_movies - {year:[list of movies]}\n",
    "    workign_years - years that prodcer produced movie\n",
    "    \"\"\"\n",
    "    participating_movies = []\n",
    "    for key, values in Counter(working_years).items():\n",
    "        participating_movies.extend(np.random.choice(available_movies[key], values, replace=False))"
   ]
  },
  {
   "cell_type": "code",
   "execution_count": 37,
   "metadata": {},
   "outputs": [],
   "source": [
    "def append_producer(row, p, movies):\n",
    "    if row._id in movies:\n",
    "        row.producers.append(p)\n",
    "    return row"
   ]
  },
  {
   "cell_type": "code",
   "execution_count": null,
   "metadata": {},
   "outputs": [],
   "source": []
  },
  {
   "cell_type": "markdown",
   "metadata": {},
   "source": [
    "### Make dataframe with the exact team sizes"
   ]
  },
  {
   "cell_type": "code",
   "execution_count": null,
   "metadata": {},
   "outputs": [],
   "source": [
    "data_dir = '/home/projects/movie-network/data/synthetic_data/model_3_0/'\n",
    "gender_dir = '/home/projects/movie-network/data/synthetic_data/genders/'"
   ]
  },
  {
   "cell_type": "code",
   "execution_count": null,
   "metadata": {},
   "outputs": [],
   "source": [
    "num_schedules = 1\n",
    "version_list = net_gen.make_version(num_schedules)"
   ]
  },
  {
   "cell_type": "code",
   "execution_count": null,
   "metadata": {},
   "outputs": [],
   "source": [
    "for key,value in sorted(gap_dict_per_producer.items(),key=lambda i:(sum(i[1]), len(i[1])),reverse=True):\n",
    "    print(key, value, sum(value))"
   ]
  },
  {
   "cell_type": "code",
   "execution_count": null,
   "metadata": {},
   "outputs": [],
   "source": [
    "total_movie_frame.head()"
   ]
  },
  {
   "cell_type": "code",
   "execution_count": null,
   "metadata": {
    "scrolled": true
   },
   "outputs": [],
   "source": [
    "shift_dist = []\n",
    "# for v in range(num_schedules):\n",
    "\n",
    "\n",
    "#generate new producers every round\n",
    "generated_producers = net_gen.generate_producers(total_num_producers)\n",
    "generated_producers_dict = {}\n",
    "generated_producers_dict['female'] = generated_producers[:len(seeds)]\n",
    "generated_producers_dict['male'] = generated_producers[len(seeds):]\n",
    "total_movie_frame = movie_producer_df[['_id', 'producers', 'year', 'producer_num']].copy(deep=True)\n",
    "print('iterate years')\n",
    "for year, df in total_movie_frame.groupby('year'):\n",
    "    num_producers = number_of_producers_per_year[year] #duplicate producers are already dropped\n",
    "    mean_size = np.mean(df.producer_num.tolist())\n",
    "    mean_ceil = np.ceil(mean_size)\n",
    "    mean_floor = np.floor(mean_size)\n",
    "    #fix the team size to its mean\n",
    "    df['producer_num'] = df.producer_num.apply(team_size, args=(mean_ceil, mean_floor))\n",
    "    total_movie_frame['producer_num'].update(df.producer_num)\n",
    "total_movie_frame['producers'] = np.nan\n",
    "print('generate movies')\n",
    "total_num_teams = total_movie_frame.producer_num.sum()\n",
    "dict_movies = generate_movie_num(total_num_teams, generated_producers_dict, movie_per_producer_gender)\n",
    "shift_dist.append(list(dict_movies.values()))\n",
    "print('distribute movies')\n",
    "\n",
    "\n",
    "    \n",
    "for i, row in total_movie_frame.iterrows():\n",
    "    producers, occurence = zip(*dict_movies.items())\n",
    "    producers = np.array(producers)\n",
    "    occurence = np.array(occurence)\n",
    "    size = row.producer_num\n",
    "    team = np.random.choice(producers, size, replace=False, p=occurence/sum(occurence))\n",
    "    #assign list to cell\n",
    "    total_movie_frame['producers'] = total_movie_frame['producers'].astype(object)\n",
    "    total_movie_frame.at[i, 'producers'] = team\n",
    "    for p in team:\n",
    "        dict_movies[p] -= 1\n",
    "        if dict_movies[p] == 0:\n",
    "            del dict_movies[p]\n",
    "            \n",
    "            \n",
    "            \n",
    "#     total_movie_frame.to_json(os.path.join(data_dir, 'movies_3_0_{}.json'.format(version_list[v])), orient='split')\n",
    "#     #save gender\n",
    "#     generated_gender_df = pd.DataFrame(columns=['producer_id', 'gender'])\n",
    "#     for g, producers in generated_producers_dict.items():\n",
    "#         genders = [g for ii in producers]\n",
    "#         appending_df = pd.DataFrame({'producer_id': producers, 'gender': genders})\n",
    "#         generated_gender_df = generated_gender_df.append(appending_df)\n",
    "#     generated_gender_df.to_json(os.path.join(gender_dir, 'movies_3_0', 'version_{}.json'.format(version_list[v])), orient='split')"
   ]
  },
  {
   "cell_type": "code",
   "execution_count": null,
   "metadata": {
    "scrolled": true
   },
   "outputs": [],
   "source": [
    "p_list = list(set([i for sublist in total_movie_frame.producers.tolist() for i in sublist]))"
   ]
  },
  {
   "cell_type": "code",
   "execution_count": null,
   "metadata": {},
   "outputs": [],
   "source": [
    "for l in shift_dist:\n",
    "    print(ks_2samp(l, movie_per_producer_gender['male']+movie_per_producer_gender['female']))"
   ]
  },
  {
   "cell_type": "markdown",
   "metadata": {},
   "source": [
    "# Model 2-1\n",
    "\n",
    "fixed number of movies, fixed number of producers\n",
    "\n",
    "team size sampled from the real schedule"
   ]
  },
  {
   "cell_type": "markdown",
   "metadata": {},
   "source": [
    "## Fill in producers"
   ]
  },
  {
   "cell_type": "code",
   "execution_count": null,
   "metadata": {},
   "outputs": [],
   "source": [
    "num_schedules = 10\n",
    "\n",
    "version_list = []\n",
    "while len(version_list) < num_schedules:\n",
    "    ver = make_version()\n",
    "    if ver not in version_list:\n",
    "        version_list.append(ver)"
   ]
  },
  {
   "cell_type": "code",
   "execution_count": null,
   "metadata": {},
   "outputs": [],
   "source": [
    "from os import listdir\n",
    "from os.path import isfile, join\n",
    "\n",
    "original_file_list = [join(original_dir, f) for f in listdir(original_dir) \n",
    "                       if isfile(join(original_dir, f))]"
   ]
  },
  {
   "cell_type": "markdown",
   "metadata": {},
   "source": [
    "## Concat over multiple years"
   ]
  },
  {
   "cell_type": "code",
   "execution_count": null,
   "metadata": {},
   "outputs": [],
   "source": [
    "movie_producer_df[['_id', 'producers', 'year', 'producer_num']].copy(deep=True).head()"
   ]
  },
  {
   "cell_type": "code",
   "execution_count": null,
   "metadata": {},
   "outputs": [],
   "source": [
    "data_dir = '/home/projects/movie-network/data/synthetic_data/model_2_1/'\n",
    "\n",
    "shift_dist = []\n",
    "for v in range(num_schedules):\n",
    "    #generate new producers every round\n",
    "    generated_producers = net_gen.generate_producers(total_num_producers)\n",
    "    generated_producers_dict = {}\n",
    "    generated_producers_dict['female'] = generated_producers[:len(seeds)]\n",
    "    generated_producers_dict['male'] = generated_producers[len(seeds):]\n",
    "    total_movie_frame = movie_producer_df[['_id', 'producers', 'year', 'producer_num']].copy(deep=True)\n",
    "    total_movie_frame['producers'] = np.nan\n",
    "    print('generate movies')\n",
    "    total_num_teams = total_movie_frame.producer_num.sum()\n",
    "    dict_movies = generate_movie_num(total_num_teams, generated_producers_dict, movie_per_producer_gender)\n",
    "    shift_dist.append(list(dict_movies.values()))\n",
    "    print('distribute movies')\n",
    "    for i, row in total_movie_frame.iterrows():\n",
    "        producers, occurence = zip(*dict_movies.items())\n",
    "        producers = np.array(producers)\n",
    "        occurence = np.array(occurence)\n",
    "        size = row.producer_num\n",
    "        team = np.random.choice(producers, size, replace=False, p=occurence/sum(occurence))\n",
    "        total_movie_frame['producers'] = total_movie_frame['producers'].astype(object)\n",
    "        total_movie_frame.at[i, 'producers'] = team\n",
    "        for p in team:\n",
    "            dict_movies[p] -= 1\n",
    "            if dict_movies[p] == 0:\n",
    "                del dict_movies[p]\n",
    "    total_movie_frame.to_json(os.path.join(data_dir, 'movies_2_1_{}.json'.format(version_list[v])), orient='split')\n",
    "    #save gender\n",
    "    generated_gender_df = pd.DataFrame(columns=['producer_id', 'gender'])\n",
    "    for g, producers in generated_producers_dict.items():\n",
    "        genders = [g for ii in producers]\n",
    "        appending_df = pd.DataFrame({'producer_id': producers, 'gender': genders})\n",
    "        generated_gender_df = generated_gender_df.append(appending_df)\n",
    "    generated_gender_df.to_json(os.path.join(gender_dir, 'movies_2_1', 'version_{}.json'.format(version_list[v])), orient='split')"
   ]
  },
  {
   "cell_type": "code",
   "execution_count": null,
   "metadata": {},
   "outputs": [],
   "source": [
    "for l in shift_dist:\n",
    "    print(ks_2samp(l, movie_per_producer_gender['male']+movie_per_producer_gender['female']))"
   ]
  },
  {
   "cell_type": "markdown",
   "metadata": {},
   "source": [
    "# Problem\n",
    "\n",
    "Random sampling does not account for all of the producers"
   ]
  },
  {
   "cell_type": "code",
   "execution_count": null,
   "metadata": {},
   "outputs": [],
   "source": [
    "ver"
   ]
  },
  {
   "cell_type": "code",
   "execution_count": null,
   "metadata": {},
   "outputs": [],
   "source": [
    "from os.path import normpath, basename, join, isfile\n",
    "from os import listdir"
   ]
  },
  {
   "cell_type": "code",
   "execution_count": null,
   "metadata": {},
   "outputs": [],
   "source": [
    "network_model =  basename(normpath(data_dir))\n",
    "gender_folder = os.path.join('/home/projects/movie-network/data/synthetic_data/genders/', network_model)"
   ]
  },
  {
   "cell_type": "code",
   "execution_count": null,
   "metadata": {},
   "outputs": [],
   "source": [
    "gender_file = [join(gender_folder, f) for f in listdir(gender_folder) if isfile(join(gender_folder, f)) and ver in f]"
   ]
  },
  {
   "cell_type": "code",
   "execution_count": null,
   "metadata": {},
   "outputs": [],
   "source": [
    "if len(gender_file) == 1:\n",
    "    gender_file = gender_file[0]\n",
    "else:\n",
    "    raise IndexError('the version has duplicate or it does not exist')"
   ]
  },
  {
   "cell_type": "code",
   "execution_count": null,
   "metadata": {},
   "outputs": [],
   "source": [
    "df_gender = pd.read_json(gender_file, orient='split')\n",
    "seeds = df_gender[df_gender.gender=='female'].producer_id.tolist()"
   ]
  },
  {
   "cell_type": "code",
   "execution_count": null,
   "metadata": {},
   "outputs": [],
   "source": [
    "len(seeds)"
   ]
  },
  {
   "cell_type": "code",
   "execution_count": null,
   "metadata": {},
   "outputs": [],
   "source": [
    "from os.path import dirname, realpath\n",
    "two_up = dirname(dirname(__file__))"
   ]
  },
  {
   "cell_type": "code",
   "execution_count": null,
   "metadata": {},
   "outputs": [],
   "source": [
    "os.path.abspath(os.path.join(data_dir, os.pardir, 'gender'))"
   ]
  },
  {
   "cell_type": "code",
   "execution_count": null,
   "metadata": {},
   "outputs": [],
   "source": [
    "data_dir"
   ]
  },
  {
   "cell_type": "code",
   "execution_count": null,
   "metadata": {},
   "outputs": [],
   "source": []
  }
 ],
 "metadata": {
  "kernelspec": {
   "display_name": "Python 3",
   "language": "python",
   "name": "python3"
  },
  "language_info": {
   "codemirror_mode": {
    "name": "ipython",
    "version": 3
   },
   "file_extension": ".py",
   "mimetype": "text/x-python",
   "name": "python",
   "nbconvert_exporter": "python",
   "pygments_lexer": "ipython3",
   "version": "3.6.5"
  }
 },
 "nbformat": 4,
 "nbformat_minor": 2
}
